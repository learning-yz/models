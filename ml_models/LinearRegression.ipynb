{
 "cells": [
  {
   "cell_type": "code",
   "execution_count": 1,
   "metadata": {},
   "outputs": [],
   "source": [
    "from sklearn.linear_model import LinearRegression, Ridge, Lasso, MultiTaskLasso, Lars \\\n",
    "                          , ElasticNet, MultiTaskElasticNet \\\n",
    "                          , OrthogonalMatchingPursuit, orthogonal_mp \\\n",
    "                          , BayesianRidge, ARDRegression \\\n",
    "                          , SGDRegressor \\\n",
    "                          , PassiveAggressiveRegressor \\\n",
    "                          , HuberRegressor\n",
    "from sklearn.linear_model import RidgeCV, LassoCV, LassoLarsCV"
   ]
  },
  {
   "cell_type": "code",
   "execution_count": 2,
   "metadata": {},
   "outputs": [],
   "source": [
    "import numpy as np\n",
    "import pandas as pd\n",
    "from sklearn.metrics import mean_squared_error, r2_score"
   ]
  },
  {
   "cell_type": "code",
   "execution_count": 3,
   "metadata": {},
   "outputs": [],
   "source": [
    "# 线性回归模型要求输入特征之间是独立的，"
   ]
  },
  {
   "cell_type": "code",
   "execution_count": 4,
   "metadata": {},
   "outputs": [
    {
     "name": "stdout",
     "output_type": "stream",
     "text": [
      "(800, 7) (200, 7)\n",
      "(800,) (200,)\n"
     ]
    }
   ],
   "source": [
    "# 创建数据集1\n",
    "X = np.random.uniform(size=(1000, 7))\n",
    "y = 0.09 * X[:,0] - 0.58 * X[:,1] + 0 * X[:,2] + 0.17 * X[:,3] +\\\n",
    "    0 * X[:, 4] + 0.32 * X[:, 5] + 0.46 * X[:, 6] + 0.78\n",
    "y[::7] += 0.1 * np.random.uniform(size=143)\n",
    "X_train, X_test = X[:-200], X[-200:]\n",
    "y_train, y_test = y[:-200], y[-200:]\n",
    "print(X_train.shape, X_test.shape)\n",
    "print(y_train.shape, y_test.shape)"
   ]
  },
  {
   "cell_type": "code",
   "execution_count": 5,
   "metadata": {},
   "outputs": [
    {
     "name": "stdout",
     "output_type": "stream",
     "text": [
      "(800, 8) (200, 8)\n",
      "(800,) (200,)\n"
     ]
    }
   ],
   "source": [
    "# 创建数据集2(测试共线性)\n",
    "tmp = X[:, 0] * 0.8 \n",
    "tmp[::5] += 0.1 * np.random.uniform(size=200)\n",
    "X2 = np.c_[X , tmp]\n",
    "\n",
    "y2 = 0.09 * X2[:,0] - 0.58 * X2[:,1] + 0 * X2[:,2] + 0.17 * X2[:,3] +\\\n",
    "    0 * X2[:, 4] + 0.32 * X2[:, 5] + 0.46 * X2[:, 6] + 0.21 * X2[:, 7] + 0.78\n",
    "y2[::7] += 0.1 * np.random.uniform(size=143)\n",
    "X2_train, X2_test = X2[:-200], X2[-200:]\n",
    "y2_train, y2_test = y2[:-200], y2[-200:]\n",
    "print(X2_train.shape, X2_test.shape)\n",
    "print(y2_train.shape, y2_test.shape)"
   ]
  },
  {
   "cell_type": "markdown",
   "metadata": {},
   "source": [
    "### a) 无共线性的数据集"
   ]
  },
  {
   "cell_type": "markdown",
   "metadata": {},
   "source": [
    "#### LinearRegression"
   ]
  },
  {
   "cell_type": "code",
   "execution_count": 6,
   "metadata": {},
   "outputs": [],
   "source": [
    "lr = LinearRegression()\n",
    "# LinearRegression(positive=True) 表示所有系数均为正"
   ]
  },
  {
   "cell_type": "code",
   "execution_count": 7,
   "metadata": {},
   "outputs": [
    {
     "data": {
      "text/plain": [
       "LinearRegression(copy_X=True, fit_intercept=True, n_jobs=None,\n",
       "         normalize=False)"
      ]
     },
     "execution_count": 7,
     "metadata": {},
     "output_type": "execute_result"
    }
   ],
   "source": [
    "lr.fit(X_train, y_train)"
   ]
  },
  {
   "cell_type": "code",
   "execution_count": 8,
   "metadata": {},
   "outputs": [
    {
     "name": "stdout",
     "output_type": "stream",
     "text": [
      "第 0 个系数的实际和预测的差距： 0.004765863874887921\n",
      "第 1 个系数的实际和预测的差距： 0.0021687671009927856\n",
      "第 2 个系数的实际和预测的差距： 0.004920723229145708\n",
      "第 3 个系数的实际和预测的差距： 0.0007223548375249467\n",
      "第 4 个系数的实际和预测的差距： 0.0018867050208826197\n",
      "第 5 个系数的实际和预测的差距： 0.0037400834400830862\n",
      "第 6 个系数的实际和预测的差距： 0.0017692767518072694\n"
     ]
    },
    {
     "data": {
      "text/plain": [
       "array([ 0.09476586, -0.58216877, -0.00492072,  0.16927765, -0.00188671,\n",
       "        0.31625992,  0.45823072])"
      ]
     },
     "execution_count": 8,
     "metadata": {},
     "output_type": "execute_result"
    }
   ],
   "source": [
    "true_coef = [0.09, -0.58, 0, 0.17, 0, 0.32, 0.46]\n",
    "for i in range(len(lr.coef_)):\n",
    "    print(\"第\", i,\"个系数的实际和预测的差距：\", abs(true_coef[i] - lr.coef_[i]))\n",
    "lr.coef_"
   ]
  },
  {
   "cell_type": "code",
   "execution_count": 9,
   "metadata": {},
   "outputs": [
    {
     "data": {
      "text/plain": [
       "0.7931579806991383"
      ]
     },
     "execution_count": 9,
     "metadata": {},
     "output_type": "execute_result"
    }
   ],
   "source": [
    "lr.intercept_"
   ]
  },
  {
   "cell_type": "code",
   "execution_count": 10,
   "metadata": {},
   "outputs": [],
   "source": [
    "y_pred = lr.predict(X_test)"
   ]
  },
  {
   "cell_type": "code",
   "execution_count": 11,
   "metadata": {},
   "outputs": [
    {
     "name": "stdout",
     "output_type": "stream",
     "text": [
      "0.0003009360160607732 0.994315126919553\n"
     ]
    }
   ],
   "source": [
    "print(mean_squared_error(y_pred, y_test), r2_score(y_pred, y_test))"
   ]
  },
  {
   "cell_type": "markdown",
   "metadata": {},
   "source": [
    "#### RidgeRegression"
   ]
  },
  {
   "cell_type": "code",
   "execution_count": 12,
   "metadata": {},
   "outputs": [
    {
     "data": {
      "text/plain": [
       "Ridge(alpha=0.1, copy_X=True, fit_intercept=True, max_iter=None,\n",
       "   normalize=False, random_state=None, solver='auto', tol=0.001)"
      ]
     },
     "execution_count": 12,
     "metadata": {},
     "output_type": "execute_result"
    }
   ],
   "source": [
    "ridge = Ridge(alpha=0.1)\n",
    "ridge.fit(X_train, y_train)"
   ]
  },
  {
   "cell_type": "code",
   "execution_count": 13,
   "metadata": {},
   "outputs": [
    {
     "name": "stdout",
     "output_type": "stream",
     "text": [
      "第 0 个系数的实际和预测的差距： 0.004592505808094852\n",
      "第 1 个系数的实际和预测的差距： 0.0012369634643638605\n",
      "第 2 个系数的实际和预测的差距： 0.004864768519115466\n",
      "第 3 个系数的实际和预测的差距： 0.0010184891107462013\n",
      "第 4 个系数的实际和预测的差距： 0.0018225513262014835\n",
      "第 5 个系数的实际和预测的差距： 0.004326405563660873\n",
      "第 6 个系数的实际和预测的差距： 0.0024695978313302724\n"
     ]
    },
    {
     "data": {
      "text/plain": [
       "array([ 0.09459251, -0.58123696, -0.00486477,  0.16898151, -0.00182255,\n",
       "        0.31567359,  0.4575304 ])"
      ]
     },
     "execution_count": 13,
     "metadata": {},
     "output_type": "execute_result"
    }
   ],
   "source": [
    "true_coef = [0.09, -0.58, 0, 0.17, 0, 0.32, 0.46]\n",
    "for i in range(len(ridge.coef_)):\n",
    "    print(\"第\", i,\"个系数的实际和预测的差距：\", abs(true_coef[i] - ridge.coef_[i]))\n",
    "ridge.coef_"
   ]
  },
  {
   "cell_type": "code",
   "execution_count": 14,
   "metadata": {},
   "outputs": [
    {
     "data": {
      "text/plain": [
       "0.7935138866728013"
      ]
     },
     "execution_count": 14,
     "metadata": {},
     "output_type": "execute_result"
    }
   ],
   "source": [
    "ridge.intercept_"
   ]
  },
  {
   "cell_type": "markdown",
   "metadata": {},
   "source": [
    "#### Lasso"
   ]
  },
  {
   "cell_type": "code",
   "execution_count": 15,
   "metadata": {},
   "outputs": [
    {
     "data": {
      "text/plain": [
       "Lasso(alpha=0.001, copy_X=True, fit_intercept=True, max_iter=1000,\n",
       "   normalize=False, positive=False, precompute=False, random_state=None,\n",
       "   selection='cyclic', tol=0.0001, warm_start=False)"
      ]
     },
     "execution_count": 15,
     "metadata": {},
     "output_type": "execute_result"
    }
   ],
   "source": [
    "lasso = Lasso(alpha=0.001)\n",
    "lasso.fit(X_train, y_train)"
   ]
  },
  {
   "cell_type": "code",
   "execution_count": 16,
   "metadata": {},
   "outputs": [
    {
     "name": "stdout",
     "output_type": "stream",
     "text": [
      "第 0 个系数的实际和预测的差距： 0.00769833536743432\n",
      "第 1 个系数的实际和预测的差距： 0.01138385956872956\n",
      "第 2 个系数的实际和预测的差距： 0.0\n",
      "第 3 个系数的实际和预测的差距： 0.013512953554929735\n",
      "第 4 个系数的实际和预测的差距： 0.0\n",
      "第 5 个系数的实际和预测的差距： 0.01842991316139997\n",
      "第 6 个系数的实际和预测的差距： 0.014464592576535762\n"
     ]
    },
    {
     "data": {
      "text/plain": [
       "array([ 0.08230166, -0.56861614, -0.        ,  0.15648705, -0.        ,\n",
       "        0.30157009,  0.44553541])"
      ]
     },
     "execution_count": 16,
     "metadata": {},
     "output_type": "execute_result"
    }
   ],
   "source": [
    "true_coef = [0.09, -0.58, 0, 0.17, 0, 0.32, 0.46]\n",
    "# 可以看出Lasso可以识别出前面系数为0的列，他们的系数预测为0\n",
    "for i in range(len(lasso.coef_)):\n",
    "    print(\"第\", i,\"个系数的实际和预测的差距：\", abs(true_coef[i] - lasso.coef_[i]))\n",
    "lasso.coef_"
   ]
  },
  {
   "cell_type": "markdown",
   "metadata": {},
   "source": [
    "#### ElasticNet"
   ]
  },
  {
   "cell_type": "code",
   "execution_count": 17,
   "metadata": {},
   "outputs": [
    {
     "data": {
      "text/plain": [
       "ElasticNet(alpha=0.01, copy_X=True, fit_intercept=True, l1_ratio=0.001,\n",
       "      max_iter=1000, normalize=False, positive=False, precompute=False,\n",
       "      random_state=None, selection='cyclic', tol=0.0001, warm_start=False)"
      ]
     },
     "execution_count": 17,
     "metadata": {},
     "output_type": "execute_result"
    }
   ],
   "source": [
    "enet = ElasticNet(alpha=0.01, l1_ratio=0.001)\n",
    "enet.fit(X_train, y_train)"
   ]
  },
  {
   "cell_type": "code",
   "execution_count": 18,
   "metadata": {},
   "outputs": [
    {
     "name": "stdout",
     "output_type": "stream",
     "text": [
      "第 0 个系数的实际和预测的差距： 0.007438377296528159\n",
      "第 1 个系数的实际和预测的差距： 0.0639888536399964\n",
      "第 2 个系数的实际和预测的差距： 0.0011846280568969384\n",
      "第 3 个系数的实际和预测的差距： 0.021676005360319273\n",
      "第 4 个系数的实际和预测的差距： 0.0020751700076486294\n",
      "第 5 个系数的实际和预测的差距： 0.04479906341768858\n",
      "第 6 个系数的实际和预测的差距： 0.05181479095942587\n"
     ]
    },
    {
     "data": {
      "text/plain": [
       "array([ 0.08256162, -0.51601115, -0.00118463,  0.14832399,  0.00207517,\n",
       "        0.27520094,  0.40818521])"
      ]
     },
     "execution_count": 18,
     "metadata": {},
     "output_type": "execute_result"
    }
   ],
   "source": [
    "true_coef = [0.09, -0.58, 0, 0.17, 0, 0.32, 0.46]\n",
    "# 既用了l1,也用了l2, 所有无法将系数为0的特征识别为0；\n",
    "for i in range(len(enet.coef_)):\n",
    "    print(\"第\", i,\"个系数的实际和预测的差距：\", abs(true_coef[i] - enet.coef_[i]))\n",
    "enet.coef_"
   ]
  },
  {
   "cell_type": "markdown",
   "metadata": {},
   "source": [
    "#### b) 存在共线性的数据集"
   ]
  },
  {
   "cell_type": "markdown",
   "metadata": {},
   "source": [
    "#### LinearRegression"
   ]
  },
  {
   "cell_type": "code",
   "execution_count": 19,
   "metadata": {},
   "outputs": [
    {
     "data": {
      "text/plain": [
       "LinearRegression(copy_X=True, fit_intercept=True, n_jobs=None,\n",
       "         normalize=False)"
      ]
     },
     "execution_count": 19,
     "metadata": {},
     "output_type": "execute_result"
    }
   ],
   "source": [
    "lr2 = LinearRegression()\n",
    "lr2.fit(X2_train, y2_train)"
   ]
  },
  {
   "cell_type": "code",
   "execution_count": 20,
   "metadata": {},
   "outputs": [
    {
     "name": "stdout",
     "output_type": "stream",
     "text": [
      "第 0 个系数的实际和预测的差距： 0.04705510500915927\n",
      "第 1 个系数的实际和预测的差距： 0.002866158728298651\n",
      "第 2 个系数的实际和预测的差距： 0.0027208542823393177\n",
      "第 3 个系数的实际和预测的差距： 0.0009782458332392996\n",
      "第 4 个系数的实际和预测的差距： 0.003239549094000538\n",
      "第 5 个系数的实际和预测的差距： 0.00143718341685517\n",
      "第 6 个系数的实际和预测的差距： 0.0019159469102332238\n",
      "第 7 个系数的实际和预测的差距： 0.058573626118876204\n"
     ]
    }
   ],
   "source": [
    "true_coef = [0.09, -0.58, 0, 0.17, 0, 0.32, 0.46, 0.21]\n",
    "# 第0个和最后一个系数和实际相差较多，因为这两个系数之间存在共线性\n",
    "for i in range(len(lr2.coef_)):\n",
    "    print(\"第\", i,\"个系数的实际和预测的差距：\", abs(true_coef[i] - lr2.coef_[i]))"
   ]
  },
  {
   "cell_type": "markdown",
   "metadata": {},
   "source": [
    "#### RidgeRegression "
   ]
  },
  {
   "cell_type": "code",
   "execution_count": 21,
   "metadata": {},
   "outputs": [
    {
     "data": {
      "text/plain": [
       "Ridge(alpha=0.1, copy_X=True, fit_intercept=True, max_iter=None,\n",
       "   normalize=False, random_state=None, solver='auto', tol=0.001)"
      ]
     },
     "execution_count": 21,
     "metadata": {},
     "output_type": "execute_result"
    }
   ],
   "source": [
    "ridge2 = Ridge(alpha=0.1)\n",
    "ridge2.fit(X2_train, y2_train)"
   ]
  },
  {
   "cell_type": "code",
   "execution_count": 22,
   "metadata": {},
   "outputs": [
    {
     "name": "stdout",
     "output_type": "stream",
     "text": [
      "第 0 个系数的实际和预测的差距： 0.05266623058583009\n",
      "第 1 个系数的实际和预测的差距： 0.0038318477915395555\n",
      "第 2 个系数的实际和预测的差距： 0.0026867218173432616\n",
      "第 3 个系数的实际和预测的差距： 0.0012943844346738065\n",
      "第 4 个系数的实际和预测的差距： 0.0031736311807101067\n",
      "第 5 个系数的实际和预测的差距： 0.0020092871341176877\n",
      "第 6 个系数的实际和预测的差距： 0.0026086210379070995\n",
      "第 7 个系数的实际和预测的差距： 0.06594375286289528\n"
     ]
    },
    {
     "data": {
      "text/plain": [
       "array([ 0.14266623, -0.57616815, -0.00268672,  0.16870562, -0.00317363,\n",
       "        0.31799071,  0.45739138,  0.14405625])"
      ]
     },
     "execution_count": 22,
     "metadata": {},
     "output_type": "execute_result"
    }
   ],
   "source": [
    "true_coef = [0.09, -0.58, 0, 0.17, 0, 0.32, 0.46, 0.21]\n",
    "# 针对共线性处理，可以看到RidgeRegression的处理比LinearRegression要好\n",
    "for i in range(len(ridge2.coef_)):\n",
    "    print(\"第\", i,\"个系数的实际和预测的差距：\", abs(true_coef[i] - ridge2.coef_[i]))\n",
    "ridge2.coef_"
   ]
  },
  {
   "cell_type": "markdown",
   "metadata": {},
   "source": [
    "#### Lasso"
   ]
  },
  {
   "cell_type": "code",
   "execution_count": 23,
   "metadata": {},
   "outputs": [
    {
     "data": {
      "text/plain": [
       "Lasso(alpha=0.001, copy_X=True, fit_intercept=True, max_iter=1000,\n",
       "   normalize=False, positive=False, precompute=False, random_state=None,\n",
       "   selection='cyclic', tol=0.0001, warm_start=False)"
      ]
     },
     "execution_count": 23,
     "metadata": {},
     "output_type": "execute_result"
    }
   ],
   "source": [
    "lasso2 = Lasso(alpha=0.001)\n",
    "lasso2.fit(X2_train, y2_train)"
   ]
  },
  {
   "cell_type": "code",
   "execution_count": 24,
   "metadata": {},
   "outputs": [
    {
     "name": "stdout",
     "output_type": "stream",
     "text": [
      "第 0 个系数的实际和预测的差距： 0.154810622126104\n",
      "第 1 个系数的实际和预测的差距： 0.01734918098079352\n",
      "第 2 个系数的实际和预测的差距： 0.0\n",
      "第 3 个系数的实际和预测的差距： 0.014177697430921676\n",
      "第 4 个系数的实际和预测的差距： 0.0\n",
      "第 5 个系数的实际和预测的差距： 0.01567938581683742\n",
      "第 6 个系数的实际和预测的差距： 0.01432491068075098\n",
      "第 7 个系数的实际和预测的差距： 0.21\n"
     ]
    },
    {
     "data": {
      "text/plain": [
       "array([ 0.24481062, -0.56265082, -0.        ,  0.1558223 , -0.        ,\n",
       "        0.30432061,  0.44567509,  0.        ])"
      ]
     },
     "execution_count": 24,
     "metadata": {},
     "output_type": "execute_result"
    }
   ],
   "source": [
    "true_coef = [0.09, -0.58, 0, 0.17, 0, 0.32, 0.46, 0.21]\n",
    "# Lasso识别了第一个和最后一个的共线性，并且做了加总处理0.09+0.21*0.8=0.258，\n",
    "# 接近预测出来的第一个变量前面的系数，而最后一个变量前面的系数变为0了，减少了特征，所以可以用来做特征筛选\n",
    "for i in range(len(lasso2.coef_)):\n",
    "    print(\"第\", i,\"个系数的实际和预测的差距：\", abs(true_coef[i] - lasso2.coef_[i]))\n",
    "lasso2.coef_"
   ]
  },
  {
   "cell_type": "markdown",
   "metadata": {},
   "source": [
    "#### ElasticNet"
   ]
  },
  {
   "cell_type": "code",
   "execution_count": 25,
   "metadata": {},
   "outputs": [
    {
     "data": {
      "text/plain": [
       "ElasticNet(alpha=0.01, copy_X=True, fit_intercept=True, l1_ratio=0.005,\n",
       "      max_iter=1000, normalize=False, positive=False, precompute=False,\n",
       "      random_state=None, selection='cyclic', tol=0.0001, warm_start=False)"
      ]
     },
     "execution_count": 25,
     "metadata": {},
     "output_type": "execute_result"
    }
   ],
   "source": [
    "enet2 = ElasticNet(alpha=0.01, l1_ratio=0.005)\n",
    "enet2.fit(X2_train, y2_train)"
   ]
  },
  {
   "cell_type": "code",
   "execution_count": 26,
   "metadata": {},
   "outputs": [
    {
     "name": "stdout",
     "output_type": "stream",
     "text": [
      "第 0 个系数的实际和预测的差距： 0.05624114921415915\n",
      "第 1 个系数的实际和预测的差距： 0.0689379495276885\n",
      "第 2 个系数的实际和预测的差距： 0.00013766843256831824\n",
      "第 3 个系数的实际和预测的差距： 0.022507265041577962\n",
      "第 4 个系数的实际和预测的差距： 0.0007123395454513017\n",
      "第 5 个系数的实际和预测的差距： 0.043306251354119696\n",
      "第 6 个系数的实际和预测的差距： 0.05217394629366601\n",
      "第 7 个系数的实际和预测的差距： 0.09513443298562561\n"
     ]
    },
    {
     "data": {
      "text/plain": [
       "array([ 1.46241149e-01, -5.11062050e-01,  1.37668433e-04,  1.47492735e-01,\n",
       "        7.12339545e-04,  2.76693749e-01,  4.07826054e-01,  1.14865567e-01])"
      ]
     },
     "execution_count": 26,
     "metadata": {},
     "output_type": "execute_result"
    }
   ],
   "source": [
    "true_coef = [0.09, -0.58, 0, 0.17, 0, 0.32, 0.46, 0.21]\n",
    "# ElasticNet会对共线性做处理，但是不像Lasso只会选择一个，ElasticNet两个都会选择，\n",
    "# 这里第0个系数和第7个系数都有值；不像Lasso直接把第7个前面的系数设为0了；\n",
    "for i in range(len(enet2.coef_)):\n",
    "    print(\"第\", i,\"个系数的实际和预测的差距：\", abs(true_coef[i] - enet2.coef_[i]))\n",
    "enet2.coef_"
   ]
  }
 ],
 "metadata": {
  "kernelspec": {
   "display_name": "Python 3",
   "language": "python",
   "name": "python3"
  },
  "language_info": {
   "codemirror_mode": {
    "name": "ipython",
    "version": 3
   },
   "file_extension": ".py",
   "mimetype": "text/x-python",
   "name": "python",
   "nbconvert_exporter": "python",
   "pygments_lexer": "ipython3",
   "version": "3.7.1"
  }
 },
 "nbformat": 4,
 "nbformat_minor": 2
}
