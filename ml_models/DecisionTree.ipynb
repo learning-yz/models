{
 "cells": [
  {
   "cell_type": "code",
   "execution_count": 1,
   "metadata": {},
   "outputs": [],
   "source": [
    "# 决策树生成过程：\n",
    "# 1. 特征选择\n",
    "# 2. 决策树生成\n",
    "# 3. 剪枝：预剪枝，后剪枝\n",
    "\n",
    "\n",
    "# 核心就是特征选择，基于信息论的决策树算法有三种：ID3， CART， C4.5，其中CART和C4.5是从ID3中衍生而来\n",
    "# 1. ID3：每次选择信息增益最大的特征，没有剪枝的过程，为了去除数据过度匹配，可以通过裁减合并\n",
    "#         相邻的无法产生大量信息增益的叶子节点（例如，设置信息增益阈值）\n",
    "#         缺点：偏向具有大量取值的特征，也就是说某个特征所取值个数越多，则越有可能被作为分裂节点；\n",
    "#              ID3不能处理连续分布的特征；\n",
    "#              不能处理缺失值；\n",
    "            \n",
    "# 2. C4.5：每次选择信息增益率最大的特征，克服用信息增益选择特征时偏向取值多的特征的不足;\n",
    "#          在树的构造过程中进行剪枝;能够对连续属性进行离散化处理；能够对缺失值进行处理；\n",
    "#          缺点：效率低，因为在树的构造过程中，需要对数据集进行多次扫描和排序，只适合能够驻留内存的数据集；\n",
    "\n",
    "# 3. CART：每次选择Gini指数最小的特征，包含后剪枝的操作；\n",
    "#          ID3和C4.5生成的是多叉树，离散特征只会参与一次节点的建设\n",
    "#          而CART(Classification and Regression Tree)生成的是简洁的二叉树；特征可参与多次节点的建设；\n",
    "\n",
    "#    CART回归树：熵，Gini指数都是针对类别数据；而连续数据，可以采用平方误差，即采用最小二乘法;\n",
    "#            计算所有数据的均值c，然后计算平方误差之和 e = sum((y_i-c)*(y_i-c))\n",
    "#            寻找最优分割特征和最优切分点，使得切分后两个数据集的平方误差之和最小\n",
    "\n",
    "# 决策树的优点：计算复杂度不高，便于理解和使用，可以处理具有不相关特征的数据\n",
    "# 决策树的缺点：处理缺失数据困难，过度拟合，忽略特征之间的相关性；\n",
    "\n",
    "\n",
    "# 采用剪枝防止过拟合\n",
    "# 1. 预剪枝：在决策树生成过程中，对每个节点在划分前先进行估计，若当前节点的划分不能带来决策树泛化能力的提升，\n",
    "#          则停止划分，并将当前节点标记为叶子节点\n",
    "# 2. 后剪枝：先从训练集中生成一颗完整的决策树，然后自底向上地对非叶节点进行考察，若将该节点对应的子树替换为叶子节点能够带来决策树泛化能力的提升，\n",
    "#          则将该子树替换为叶子节点\n",
    "\n",
    "# 那不管是预剪枝还是后剪枝，都是根据决策树的泛化能力是否提升，通常可预留一部分数据用作“验证集”，判断依据就是剪枝前后这个节点在验证集上的分类正确率\n",
    "# 若剪枝后正确率提升，则进行剪枝，否则不对该节点进行剪枝；\n",
    "\n",
    "# 预剪枝VS后剪枝：\n",
    "#        预剪枝降低了过拟合的风险，减少了决策树的训练和预测时间开销；但是有欠拟合的风险；\n",
    "#        后剪枝欠拟合的风险性很小，泛化性能通常由于预剪枝，但其训练时间开销比预剪枝或者不剪枝的决策树大得多；\n",
    "\n",
    "\n",
    "# 决策树的时间复杂度：\n",
    "# 构建决策树的时间复杂度 O(sample_cnt * feature_cnt * log(sample_cnt))\n",
    "# 决策树查询的时间复杂度 O(log(sample_cnt))"
   ]
  },
  {
   "cell_type": "code",
   "execution_count": 2,
   "metadata": {},
   "outputs": [],
   "source": [
    "# 链接参考：https://zhuanlan.zhihu.com/p/69324929"
   ]
  },
  {
   "cell_type": "code",
   "execution_count": 3,
   "metadata": {},
   "outputs": [],
   "source": [
    "# 基本概念：\n",
    "# 1. 信息量：信息量度量的是一个具体事件发生所带来的信息，需要满足如下三个条件\n",
    "#           a) 越小概率的事件发生了产生的信息量越大，越大概率的时间发生了产生的信息量越小，即一个具体事件的信息量是随着其发生概率递增而递减的；\n",
    "#           b) 信息量是非负的；\n",
    "#           c) 如果有两个不相关的事件， 观察他们同时发生获得的信息量等于他们各自发生时获得的信息量之和\n",
    "#           同时满足以上三个条件的函数为 -log(x)\n",
    "# 2. 信息熵：信息熵是在结果出来之前对可能产生的信息量的期望\n",
    "#           Ent(X) = -sum(p(x_i)*log(p(x_i)))\n",
    "# 3. 条件熵：在给定X情况下随机变量Y的条件熵为 Ent(Y|X) = sum(p(x_i)*Ent(Y|X=x_x_i))\n",
    "# 4. 信息增益：使用某种特征A对样本集合D进行划分所获得的信息增益，是用划分前后的信息熵变化来表示\n",
    "#            Gain(D,A) = Ent(D) - Ent(D|A)\n",
    "# 5. 信息增益率：信息增益除以IV值，这里IV值看的是特征纯度，特征有少量取值，则纯度较高，否则纯度较低\n",
    "#            Gain_ratio(D,A) = Gain(D,A)/IV(A)\n",
    "#            其中，IV(A) = -sum(p(A_i)*log(p(A_i))) # 和信息熵公式一样\n",
    "# 6. 基尼指数：衡量数据集D的纯度，从数据集D中随机抽取两个样本（有放回抽样），其类别标记不一样的概率;基尼指数越小，说明数据集纯度越高；\n",
    "#            Gini(D) = 1 - sum(p(x_i)*p(x_i))\n",
    "#            对于样本D，选择特征A的去某个取值，将D分为D1和D2两部分，则\n",
    "#            Gini(D,A) = (|D1|/|D|)*Gini(D1) + (|D2|/|D|)*Gini(D2)\n",
    "#            一个节点中所有样本都是一个类时，基尼指数为0，最小"
   ]
  },
  {
   "cell_type": "code",
   "execution_count": 4,
   "metadata": {},
   "outputs": [
    {
     "data": {
      "text/html": [
       "<div>\n",
       "<style scoped>\n",
       "    .dataframe tbody tr th:only-of-type {\n",
       "        vertical-align: middle;\n",
       "    }\n",
       "\n",
       "    .dataframe tbody tr th {\n",
       "        vertical-align: top;\n",
       "    }\n",
       "\n",
       "    .dataframe thead th {\n",
       "        text-align: right;\n",
       "    }\n",
       "</style>\n",
       "<table border=\"1\" class=\"dataframe\">\n",
       "  <thead>\n",
       "    <tr style=\"text-align: right;\">\n",
       "      <th></th>\n",
       "      <th>Outlook</th>\n",
       "      <th>Temperature</th>\n",
       "      <th>Humidity</th>\n",
       "      <th>Windy</th>\n",
       "      <th>PlayBasketball</th>\n",
       "    </tr>\n",
       "  </thead>\n",
       "  <tbody>\n",
       "    <tr>\n",
       "      <th>0</th>\n",
       "      <td>sunny</td>\n",
       "      <td>85</td>\n",
       "      <td>85</td>\n",
       "      <td>False</td>\n",
       "      <td>no</td>\n",
       "    </tr>\n",
       "    <tr>\n",
       "      <th>1</th>\n",
       "      <td>sunny</td>\n",
       "      <td>80</td>\n",
       "      <td>90</td>\n",
       "      <td>True</td>\n",
       "      <td>no</td>\n",
       "    </tr>\n",
       "    <tr>\n",
       "      <th>2</th>\n",
       "      <td>overcast</td>\n",
       "      <td>83</td>\n",
       "      <td>86</td>\n",
       "      <td>False</td>\n",
       "      <td>yes</td>\n",
       "    </tr>\n",
       "    <tr>\n",
       "      <th>3</th>\n",
       "      <td>rainy</td>\n",
       "      <td>70</td>\n",
       "      <td>96</td>\n",
       "      <td>False</td>\n",
       "      <td>yes</td>\n",
       "    </tr>\n",
       "    <tr>\n",
       "      <th>4</th>\n",
       "      <td>rainy</td>\n",
       "      <td>68</td>\n",
       "      <td>80</td>\n",
       "      <td>False</td>\n",
       "      <td>yes</td>\n",
       "    </tr>\n",
       "  </tbody>\n",
       "</table>\n",
       "</div>"
      ],
      "text/plain": [
       "    Outlook  Temperature  Humidity  Windy PlayBasketball\n",
       "0     sunny           85        85  False             no\n",
       "1     sunny           80        90   True             no\n",
       "2  overcast           83        86  False            yes\n",
       "3     rainy           70        96  False            yes\n",
       "4     rainy           68        80  False            yes"
      ]
     },
     "execution_count": 4,
     "metadata": {},
     "output_type": "execute_result"
    }
   ],
   "source": [
    "import numpy as np\n",
    "import pandas as pd\n",
    "outlook = ['sunny', 'sunny', 'overcast', 'rainy', 'rainy', 'rainy', 'overcast'\n",
    "          , 'sunny', 'sunny', 'rainy', 'sunny', 'overcast', 'overcast', 'rainy']\n",
    "temperature = [85, 80, 83, 70, 68, 65, 64, 72, 69, 75, 75, 72, 81, 71]\n",
    "humidity = [85, 90, 86, 96, 80, 70, 65, 95, 70, 80, 70, 90, 75, 91]\n",
    "windy = [False, True, False, False, False, True, True, False, False, False, True, True, False, True]\n",
    "play_basketball=['no', 'no', 'yes', 'yes','yes', 'no', 'yes', 'no', 'yes', 'yes', 'yes',\n",
    "                 'yes', 'yes', 'no']\n",
    "dat = pd.DataFrame()\n",
    "dat['Outlook'] = outlook\n",
    "dat['Temperature'] = temperature\n",
    "dat['Humidity'] = humidity\n",
    "dat['Windy'] = windy\n",
    "dat['PlayBasketball'] = play_basketball\n",
    "dat.head()"
   ]
  },
  {
   "cell_type": "code",
   "execution_count": 5,
   "metadata": {},
   "outputs": [],
   "source": [
    "def calcEntropy(prob_list):\n",
    "    ent = 0\n",
    "    for prob in prob_list:\n",
    "        if prob<0:\n",
    "            print(\"概率列表的值必须在0到1之间，现在里面有负数\")\n",
    "            exit()\n",
    "        if prob==0:\n",
    "            continue\n",
    "        ent += prob * np.log2(prob)\n",
    "    return abs(-ent)"
   ]
  },
  {
   "cell_type": "code",
   "execution_count": 6,
   "metadata": {},
   "outputs": [
    {
     "name": "stdout",
     "output_type": "stream",
     "text": [
      "yes    9\n",
      "no     5\n",
      "Name: PlayBasketball, dtype: int64\n",
      "分裂前的信息熵： 0.9402859586706311\n"
     ]
    }
   ],
   "source": [
    "# 分裂前的信息熵\n",
    "print(dat.PlayBasketball.value_counts())\n",
    "before_ent = calcEntropy([5/14, 9/14])\n",
    "print(\"分裂前的信息熵：\", before_ent)"
   ]
  },
  {
   "cell_type": "code",
   "execution_count": 7,
   "metadata": {},
   "outputs": [
    {
     "data": {
      "text/html": [
       "<div>\n",
       "<style scoped>\n",
       "    .dataframe tbody tr th:only-of-type {\n",
       "        vertical-align: middle;\n",
       "    }\n",
       "\n",
       "    .dataframe tbody tr th {\n",
       "        vertical-align: top;\n",
       "    }\n",
       "\n",
       "    .dataframe thead th {\n",
       "        text-align: right;\n",
       "    }\n",
       "</style>\n",
       "<table border=\"1\" class=\"dataframe\">\n",
       "  <thead>\n",
       "    <tr style=\"text-align: right;\">\n",
       "      <th></th>\n",
       "      <th></th>\n",
       "      <th>Temperature</th>\n",
       "      <th>Humidity</th>\n",
       "      <th>Windy</th>\n",
       "    </tr>\n",
       "    <tr>\n",
       "      <th>Outlook</th>\n",
       "      <th>PlayBasketball</th>\n",
       "      <th></th>\n",
       "      <th></th>\n",
       "      <th></th>\n",
       "    </tr>\n",
       "  </thead>\n",
       "  <tbody>\n",
       "    <tr>\n",
       "      <th>overcast</th>\n",
       "      <th>yes</th>\n",
       "      <td>4</td>\n",
       "      <td>4</td>\n",
       "      <td>4</td>\n",
       "    </tr>\n",
       "    <tr>\n",
       "      <th rowspan=\"2\" valign=\"top\">rainy</th>\n",
       "      <th>no</th>\n",
       "      <td>2</td>\n",
       "      <td>2</td>\n",
       "      <td>2</td>\n",
       "    </tr>\n",
       "    <tr>\n",
       "      <th>yes</th>\n",
       "      <td>3</td>\n",
       "      <td>3</td>\n",
       "      <td>3</td>\n",
       "    </tr>\n",
       "    <tr>\n",
       "      <th rowspan=\"2\" valign=\"top\">sunny</th>\n",
       "      <th>no</th>\n",
       "      <td>3</td>\n",
       "      <td>3</td>\n",
       "      <td>3</td>\n",
       "    </tr>\n",
       "    <tr>\n",
       "      <th>yes</th>\n",
       "      <td>2</td>\n",
       "      <td>2</td>\n",
       "      <td>2</td>\n",
       "    </tr>\n",
       "  </tbody>\n",
       "</table>\n",
       "</div>"
      ],
      "text/plain": [
       "                         Temperature  Humidity  Windy\n",
       "Outlook  PlayBasketball                              \n",
       "overcast yes                       4         4      4\n",
       "rainy    no                        2         2      2\n",
       "         yes                       3         3      3\n",
       "sunny    no                        3         3      3\n",
       "         yes                       2         2      2"
      ]
     },
     "execution_count": 7,
     "metadata": {},
     "output_type": "execute_result"
    }
   ],
   "source": [
    "# 计算给定Outlook的条件熵\n",
    "dat.groupby(['Outlook', 'PlayBasketball']).count()"
   ]
  },
  {
   "cell_type": "code",
   "execution_count": 8,
   "metadata": {},
   "outputs": [
    {
     "name": "stdout",
     "output_type": "stream",
     "text": [
      "sunny的条件熵: 0.9709505944546686\n",
      "overcast的条件熵: 0.0\n",
      "rainy的条件熵: 0.9709505944546686\n",
      "给定Outlook的条件熵: 0.6935361388961918\n"
     ]
    }
   ],
   "source": [
    "sunny = calcEntropy([3/5, 2/5])\n",
    "overcast = calcEntropy([4/4, 0/4])\n",
    "rainy = calcEntropy([2/5, 3/5])\n",
    "outlook_ent = 5/14*sunny+5/14*rainy+4/14*overcast\n",
    "print(\"sunny的条件熵:\", sunny)\n",
    "print(\"overcast的条件熵:\", overcast )\n",
    "print(\"rainy的条件熵:\", rainy)\n",
    "print(\"给定Outlook的条件熵:\", outlook_ent)"
   ]
  },
  {
   "cell_type": "code",
   "execution_count": 9,
   "metadata": {},
   "outputs": [
    {
     "data": {
      "text/html": [
       "<div>\n",
       "<style scoped>\n",
       "    .dataframe tbody tr th:only-of-type {\n",
       "        vertical-align: middle;\n",
       "    }\n",
       "\n",
       "    .dataframe tbody tr th {\n",
       "        vertical-align: top;\n",
       "    }\n",
       "\n",
       "    .dataframe thead th {\n",
       "        text-align: right;\n",
       "    }\n",
       "</style>\n",
       "<table border=\"1\" class=\"dataframe\">\n",
       "  <thead>\n",
       "    <tr style=\"text-align: right;\">\n",
       "      <th></th>\n",
       "      <th></th>\n",
       "      <th>Outlook</th>\n",
       "      <th>Temperature</th>\n",
       "      <th>Humidity</th>\n",
       "    </tr>\n",
       "    <tr>\n",
       "      <th>Windy</th>\n",
       "      <th>PlayBasketball</th>\n",
       "      <th></th>\n",
       "      <th></th>\n",
       "      <th></th>\n",
       "    </tr>\n",
       "  </thead>\n",
       "  <tbody>\n",
       "    <tr>\n",
       "      <th rowspan=\"2\" valign=\"top\">False</th>\n",
       "      <th>no</th>\n",
       "      <td>2</td>\n",
       "      <td>2</td>\n",
       "      <td>2</td>\n",
       "    </tr>\n",
       "    <tr>\n",
       "      <th>yes</th>\n",
       "      <td>6</td>\n",
       "      <td>6</td>\n",
       "      <td>6</td>\n",
       "    </tr>\n",
       "    <tr>\n",
       "      <th rowspan=\"2\" valign=\"top\">True</th>\n",
       "      <th>no</th>\n",
       "      <td>3</td>\n",
       "      <td>3</td>\n",
       "      <td>3</td>\n",
       "    </tr>\n",
       "    <tr>\n",
       "      <th>yes</th>\n",
       "      <td>3</td>\n",
       "      <td>3</td>\n",
       "      <td>3</td>\n",
       "    </tr>\n",
       "  </tbody>\n",
       "</table>\n",
       "</div>"
      ],
      "text/plain": [
       "                      Outlook  Temperature  Humidity\n",
       "Windy PlayBasketball                                \n",
       "False no                    2            2         2\n",
       "      yes                   6            6         6\n",
       "True  no                    3            3         3\n",
       "      yes                   3            3         3"
      ]
     },
     "execution_count": 9,
     "metadata": {},
     "output_type": "execute_result"
    }
   ],
   "source": [
    "# 计算给定Windy的条件熵\n",
    "dat.groupby(['Windy', 'PlayBasketball']).count()"
   ]
  },
  {
   "cell_type": "code",
   "execution_count": 10,
   "metadata": {},
   "outputs": [
    {
     "name": "stdout",
     "output_type": "stream",
     "text": [
      "false的条件熵: 0.8112781244591328\n",
      "true的条件熵: 1.0\n",
      "给定Windy的条件熵: 0.8921589282623617\n"
     ]
    }
   ],
   "source": [
    "false = calcEntropy([2/8, 6/8])\n",
    "true = calcEntropy([3/6, 3/6])\n",
    "windy_ent = 8/14*false + 6/14*true\n",
    "print(\"false的条件熵:\", false )\n",
    "print(\"true的条件熵:\", true)\n",
    "print(\"给定Windy的条件熵:\", windy_ent)"
   ]
  },
  {
   "cell_type": "code",
   "execution_count": 11,
   "metadata": {},
   "outputs": [
    {
     "name": "stdout",
     "output_type": "stream",
     "text": [
      "以Outlook为分割的信息增益为： 0.24674981977443933\n",
      "以Windy为分割的信息增益为： 0.04812703040826949\n"
     ]
    }
   ],
   "source": [
    "# 计算信息增益\n",
    "outlook_ent_gain = before_ent - outlook_ent\n",
    "windy_ent_gain = before_ent - windy_ent\n",
    "print(\"以Outlook为分割的信息增益为：\", outlook_ent_gain)\n",
    "print(\"以Windy为分割的信息增益为：\", windy_ent_gain)"
   ]
  },
  {
   "cell_type": "code",
   "execution_count": 12,
   "metadata": {},
   "outputs": [
    {
     "name": "stdout",
     "output_type": "stream",
     "text": [
      "分割为{overcast}, {rainy, sunny}的基尼指数： 0.35714285714285715\n",
      "分割为{rainy}, {overcast, sunny}的基尼指数： 0.4571428571428572\n",
      "分割为{sunny}, {rainy, overcast}的基尼指数： 0.3936507936507937\n"
     ]
    }
   ],
   "source": [
    "# 计算基尼指数\n",
    "# dat.groupby(['Outlook', 'PlayBasketball']).count()\n",
    "# 分割为{overcast}, {rainy, sunny}\n",
    "overcast_gini = (4/14)*(1-1*1) + (10/14)*(1-(5/10)*(5/10)-(5/10)*(5/10))\n",
    "# 分割为{rainy}, {overcast, sunny}\n",
    "rainy_gini = (5/14)*(1-(2/5)*(2/5)-(3/5)*(3/5)) + (9/14)*(1-(6/9)*(6/9)-(3/9)*(3/9))\n",
    "# 分割为{sunny}, {overcast, rainy}\n",
    "sunny_gini = (5/14)*(1-(2/5)*(2/5)-(3/5)*(3/5)) + (9/14)*(1-(7/9)*(7/9)-(2/9)*(2/9))\n",
    "print(\"分割为{overcast}, {rainy, sunny}的基尼指数：\", overcast_gini)\n",
    "print(\"分割为{rainy}, {overcast, sunny}的基尼指数：\", rainy_gini)\n",
    "print(\"分割为{sunny}, {rainy, overcast}的基尼指数：\", sunny_gini)\n",
    "# 可见gini指数最小的是分割为{overcast}, {rainy, sunny}"
   ]
  },
  {
   "cell_type": "markdown",
   "metadata": {},
   "source": [
    "#### 信息增益率如何改善对取值多的特征的偏好"
   ]
  },
  {
   "cell_type": "code",
   "execution_count": 13,
   "metadata": {},
   "outputs": [
    {
     "name": "stdout",
     "output_type": "stream",
     "text": [
      "1.5774062828523454 0.9852281360342515\n",
      "以Outlook为分割的信息增益率： 0.15642756242117528\n",
      "以Outlook为分割的信息增益率： 0.048848615511520824\n"
     ]
    }
   ],
   "source": [
    "# 计算信息增益率\n",
    "outlook_iv = calcEntropy([4/14, 5/14, 5/14])\n",
    "windy_iv = calcEntropy([8/14, 6/14])\n",
    "print(outlook_iv, windy_iv)\n",
    "print(\"以Outlook为分割的信息增益率：\", outlook_ent_gain/outlook_iv)\n",
    "print(\"以Outlook为分割的信息增益率：\", windy_ent_gain/windy_iv)\n",
    "# 可以看到由于Windy的可取数较Outlook要少，所以其纯度高，IV值较低\n",
    "# Outlook和Windy之间的信息增益的差距，经过除以IV值后，两种的信息增益率之间的差距缩小了\n",
    "# 这就是C4.5算法采用信息增益率能化解ID算法对取值多的特征的偏好\n",
    "\n",
    "# 但是信息增益率可能对取值少的特征有所偏好，因为C4.5算法并不是直接选择信息增益率最大的特征\n",
    "# 而是采用了一个启发式的方式：先从候选特征中找出信息增益高于平均水平的属性，再从中选择信息增益率最高的"
   ]
  },
  {
   "cell_type": "markdown",
   "metadata": {},
   "source": [
    "#### C4.5算法对连续特征的处理 "
   ]
  },
  {
   "cell_type": "code",
   "execution_count": 14,
   "metadata": {},
   "outputs": [
    {
     "name": "stdout",
     "output_type": "stream",
     "text": [
      "Temperature排序后: [64 65 68 69 70 71 72 72 75 75 80 81 83 85]\n",
      "Temperature的分割点: [64.5, 66.5, 68.5, 69.5, 70.5, 71.5, 72.0, 73.5, 75.0, 77.5, 80.5, 82.0, 84.0]\n",
      "Temperature最好的分割点： 84.0\n",
      "以最好的分割点分割后的信息熵: 0.8268850944895277\n"
     ]
    }
   ],
   "source": [
    "# C4.5算法对连续变量的处理\n",
    "sort_temp = np.sort(dat.Temperature.values) # 先排序\n",
    "print(\"Temperature排序后:\", sort_temp)\n",
    "split_point = [] # 相邻连续值的平均值作为分割点\n",
    "for i in range(len(sort_temp)-1):\n",
    "    point = (sort_temp[i] + sort_temp[i+1])/2\n",
    "    if point not in split_point:\n",
    "        split_point.append(point)\n",
    "print(\"Temperature的分割点:\", split_point)\n",
    "\n",
    "# 寻找最优分割点，选取信息增益最大的作为分割点，也就是分割后信息熵最小的\n",
    "best_split_point = None \n",
    "best_entropy = None\n",
    "for i in split_point:\n",
    "    g1_pos = dat[(dat.Temperature<=i)&(dat.PlayBasketball=='yes')].shape[0]\n",
    "    g1_neg = dat[(dat.Temperature<=i)&(dat.PlayBasketball=='no')].shape[0]\n",
    "    g1_total = g1_pos + g1_neg\n",
    "    g2_pos = dat[(dat.Temperature>i)&(dat.PlayBasketball=='yes')].shape[0]\n",
    "    g2_neg = dat[(dat.Temperature>i)&(dat.PlayBasketball=='no')].shape[0]\n",
    "    g2_total = g2_pos + g2_neg\n",
    "    total = g1_total + g2_total\n",
    "    g1_ent = calcEntropy([g1_pos/g1_total, g1_neg/g1_total])\n",
    "    g2_ent = calcEntropy([g2_pos/g2_total, g2_neg/g2_total])\n",
    "    total_ent = (g1_total/total)*g1_ent + (g2_total/total)*g2_ent\n",
    "    if best_entropy is None:\n",
    "        best_split_point = i\n",
    "        best_entropy = total_ent\n",
    "    elif total_ent < best_entropy:\n",
    "        best_split_point = i\n",
    "        best_entropy = total_ent\n",
    "print(\"Temperature最好的分割点：\", best_split_point)\n",
    "print(\"以最好的分割点分割后的信息熵:\",best_entropy)"
   ]
  },
  {
   "cell_type": "markdown",
   "metadata": {},
   "source": [
    "#### C4.5算法对缺失值的处理：设置样本权重"
   ]
  },
  {
   "cell_type": "code",
   "execution_count": 15,
   "metadata": {},
   "outputs": [
    {
     "data": {
      "text/html": [
       "<div>\n",
       "<style scoped>\n",
       "    .dataframe tbody tr th:only-of-type {\n",
       "        vertical-align: middle;\n",
       "    }\n",
       "\n",
       "    .dataframe tbody tr th {\n",
       "        vertical-align: top;\n",
       "    }\n",
       "\n",
       "    .dataframe thead th {\n",
       "        text-align: right;\n",
       "    }\n",
       "</style>\n",
       "<table border=\"1\" class=\"dataframe\">\n",
       "  <thead>\n",
       "    <tr style=\"text-align: right;\">\n",
       "      <th></th>\n",
       "      <th>Outlook</th>\n",
       "      <th>Temperature</th>\n",
       "      <th>Humidity</th>\n",
       "      <th>Windy</th>\n",
       "      <th>PlayBasketball</th>\n",
       "    </tr>\n",
       "  </thead>\n",
       "  <tbody>\n",
       "    <tr>\n",
       "      <th>0</th>\n",
       "      <td>sunny</td>\n",
       "      <td>85</td>\n",
       "      <td>85</td>\n",
       "      <td>False</td>\n",
       "      <td>no</td>\n",
       "    </tr>\n",
       "    <tr>\n",
       "      <th>1</th>\n",
       "      <td>sunny</td>\n",
       "      <td>80</td>\n",
       "      <td>90</td>\n",
       "      <td>True</td>\n",
       "      <td>no</td>\n",
       "    </tr>\n",
       "    <tr>\n",
       "      <th>2</th>\n",
       "      <td>None</td>\n",
       "      <td>83</td>\n",
       "      <td>86</td>\n",
       "      <td>False</td>\n",
       "      <td>yes</td>\n",
       "    </tr>\n",
       "    <tr>\n",
       "      <th>3</th>\n",
       "      <td>rainy</td>\n",
       "      <td>70</td>\n",
       "      <td>96</td>\n",
       "      <td>False</td>\n",
       "      <td>yes</td>\n",
       "    </tr>\n",
       "    <tr>\n",
       "      <th>4</th>\n",
       "      <td>rainy</td>\n",
       "      <td>68</td>\n",
       "      <td>80</td>\n",
       "      <td>False</td>\n",
       "      <td>yes</td>\n",
       "    </tr>\n",
       "  </tbody>\n",
       "</table>\n",
       "</div>"
      ],
      "text/plain": [
       "  Outlook  Temperature  Humidity  Windy PlayBasketball\n",
       "0   sunny           85        85  False             no\n",
       "1   sunny           80        90   True             no\n",
       "2    None           83        86  False            yes\n",
       "3   rainy           70        96  False            yes\n",
       "4   rainy           68        80  False            yes"
      ]
     },
     "execution_count": 15,
     "metadata": {},
     "output_type": "execute_result"
    }
   ],
   "source": [
    "# C4.5算法对缺失值的处理\n",
    "outlook = ['sunny', 'sunny', None, 'rainy', 'rainy', 'rainy', 'overcast'\n",
    "          , 'sunny', None, 'rainy', 'sunny', 'overcast', 'overcast', 'rainy']\n",
    "temperature = [85, 80, 83, 70, 68, 65, 64, 72, 69, 75, 75, 72, 81, 71]\n",
    "humidity = [85, 90, 86, 96, 80, 70, 65, 95, 70, 80, 70, 90, 75, 91]\n",
    "windy = [False, True, False, False, False, True, True, False, False, False, True, True, False, True]\n",
    "play_basketball=['no', 'no', 'yes', 'yes','yes', 'no', 'yes', 'no', 'yes', 'yes', 'yes',\n",
    "                 'yes', 'yes', 'no']\n",
    "dat = pd.DataFrame()\n",
    "dat['Outlook'] = outlook\n",
    "dat['Temperature'] = temperature\n",
    "dat['Humidity'] = humidity\n",
    "dat['Windy'] = windy\n",
    "dat['PlayBasketball'] = play_basketball\n",
    "dat.head()"
   ]
  },
  {
   "cell_type": "code",
   "execution_count": 16,
   "metadata": {},
   "outputs": [
    {
     "data": {
      "text/plain": [
       "rainy       5\n",
       "sunny       4\n",
       "overcast    3\n",
       "Name: Outlook, dtype: int64"
      ]
     },
     "execution_count": 16,
     "metadata": {},
     "output_type": "execute_result"
    }
   ],
   "source": [
    "dat.Outlook.value_counts()"
   ]
  },
  {
   "cell_type": "code",
   "execution_count": 17,
   "metadata": {},
   "outputs": [
    {
     "data": {
      "text/html": [
       "<div>\n",
       "<style scoped>\n",
       "    .dataframe tbody tr th:only-of-type {\n",
       "        vertical-align: middle;\n",
       "    }\n",
       "\n",
       "    .dataframe tbody tr th {\n",
       "        vertical-align: top;\n",
       "    }\n",
       "\n",
       "    .dataframe thead th {\n",
       "        text-align: right;\n",
       "    }\n",
       "</style>\n",
       "<table border=\"1\" class=\"dataframe\">\n",
       "  <thead>\n",
       "    <tr style=\"text-align: right;\">\n",
       "      <th></th>\n",
       "      <th>Outlook</th>\n",
       "      <th>Temperature</th>\n",
       "      <th>Humidity</th>\n",
       "      <th>Windy</th>\n",
       "      <th>PlayBasketball</th>\n",
       "    </tr>\n",
       "  </thead>\n",
       "  <tbody>\n",
       "    <tr>\n",
       "      <th>2</th>\n",
       "      <td>None</td>\n",
       "      <td>83</td>\n",
       "      <td>86</td>\n",
       "      <td>False</td>\n",
       "      <td>yes</td>\n",
       "    </tr>\n",
       "    <tr>\n",
       "      <th>8</th>\n",
       "      <td>None</td>\n",
       "      <td>69</td>\n",
       "      <td>70</td>\n",
       "      <td>False</td>\n",
       "      <td>yes</td>\n",
       "    </tr>\n",
       "  </tbody>\n",
       "</table>\n",
       "</div>"
      ],
      "text/plain": [
       "  Outlook  Temperature  Humidity  Windy PlayBasketball\n",
       "2    None           83        86  False            yes\n",
       "8    None           69        70  False            yes"
      ]
     },
     "execution_count": 17,
     "metadata": {},
     "output_type": "execute_result"
    }
   ],
   "source": [
    "dat[dat.Outlook.isna()] # Outlook有2个缺失值\n",
    "# 在计算Outlook的信息增益率时，乘以一个系数，这个系数是(无缺失值样本数/总样本数)\n",
    "# 这里这个系数是 12/14, 也就是6/7\n",
    "\n",
    "# 然后对于有缺失值的样本，可以将其划入所有的子节点中，但是要设置一个样本的权重，\n",
    "# 这个权重可以设置为(各个子样本节点的无缺失值的样本数/总无缺失值的样本数)\n",
    "# 这里，将2，8这两个样本放入所有子节点，但是这两个样本的权重分别设置为:\n",
    "# sunny节点下有缺失值的样本权重：4/12\n",
    "# rainy节点下有缺失值的样本权重：5/12\n",
    "# overcast节点下有缺失值的样本权重：3/12"
   ]
  },
  {
   "cell_type": "markdown",
   "metadata": {},
   "source": [
    "#### 决策树的使用"
   ]
  },
  {
   "cell_type": "code",
   "execution_count": 18,
   "metadata": {},
   "outputs": [],
   "source": [
    "from sklearn.tree import DecisionTreeRegressor, DecisionTreeClassifier"
   ]
  },
  {
   "cell_type": "markdown",
   "metadata": {},
   "source": [
    "### 1. 分类树"
   ]
  },
  {
   "cell_type": "code",
   "execution_count": 19,
   "metadata": {},
   "outputs": [],
   "source": [
    "# DecisionTreeClassifier参数解释：\n",
    "#  criteriion: ‘gini’表示使用基尼不纯度来评价一个分裂，'entropy'表示使用信息增益来评价一个分裂\n",
    "#  splitter: 'best'表示在分裂时选择最优解，'random'表示在分裂时选择随机最优解\n",
    "#  max_depth: 树的最大深度，如果不设置，则会一直分裂直到所有叶子节点都只有一个类，或者达到最小叶子节点上样本数量(min_sample_leaf)的限制\n",
    "#  min_samples_split: 要求节点上的样本数量大于等于此值时才分裂，不考虑样本权重，是指绝对的样本数量，默认是2\n",
    "#                     如果是整数，就是指最小样本数量，如果是小数，则取 ceil(此值*样本数量)作为每个分裂时最小样本数量限制\n",
    "#  min_sample_leaf: 叶子节点上最少的样本数量, 分裂后左枝和右枝上的样本数量必须大于等于此值，否则不予分裂，默认是1\n",
    "#                     如果是整数，就是指叶子节点上最小样本数量，如果是小数，则取ceil(此值*样本数量)作为每个节点分裂后左右两枝所需的最小样本数量\n",
    "#  min_weight_fraction_leaf: 叶子节点上最小的加权的样本数量占比，分类后左右两枝上的加权样本数量必须大于ceil(此值*加权的样本数量),否则不予分裂，默认是0.0\n",
    "#                     和min_sample_leaf和min_samples_split不同，此参数考虑样本权重\n",
    "#  max_features: 最多使用的特征数量（如果特征很多，样本数又很少，就需要控制使用特征的数量），默认是None\n",
    "#                如果是整数，就直接是可用最多特征数量，如果是小数，则是int(此值*总特征数量), 如果是'auto'或者'sqrt',则是sqrt(总特征数量)，如果是'log2',则是log2(总特征数量)\n",
    "#                这个不是一个强制的特征，如果找不到一个有效的分割，即使检查的特征数超过max_features也会继续\n",
    "#  random_state: 保持estimator的稳定性（如果max_features小于总特征数，需要选择特征，控制随机性；即使max_features等于总特征数，那在分割时特征选择如果几个特征表现一样，选择也有一定的随机性），默认是None\n",
    "#  max_leaf_nodes: 叶节点最多的个数，默认是None\n",
    "#  min_impurity_decrease: 要求分裂后不纯度的下降大于等于此值才分裂，此参数考虑样本权重，默认是0.0\n",
    "#                  加权的不纯度下降公式：N_t/N * (impurity - N_t_R/N_t * right_impurity - N_t_L/N_t * left_impurity)\n",
    "#                  公式中，N是加权的总样本数数量，N_t是当前节点加权的样本数量， N_t_L是左节点加权的样本数量，N_t_R是右节点加权的样本数量\n",
    "#  min_impurity_split: 要求节点上样本的不纯度大于此值时才分裂；已不建议使用此参数，改建议用min_impurity_decrease，默认是0\n",
    "#  class_weight： 类权重，如果不设置，所有类的权重是1; 如果设置“balanced”，则weights设置为和类频率的反比，例如类A的权重=总样本数/类A的样本数；\n",
    "#                 如果后面有通过fit函数指定sample_weight，那class_weight会乘以sample_weight一起起作用s\n",
    "#  ccp_alpha: 默认没有后剪枝，如果设置该值，则alpha小于此值的子树会被剪枝，cpp是代价复杂度剪枝的意思，值设置的越大，被剪枝的子树越多; 默认是0.0\n",
    "#             可以查看DecisionTreeClassifer.cost_complexity_pruning_path()来设置合适的ccp_alpha值。\n"
   ]
  },
  {
   "cell_type": "markdown",
   "metadata": {},
   "source": [
    "#### 分类案例介绍"
   ]
  },
  {
   "cell_type": "code",
   "execution_count": 20,
   "metadata": {},
   "outputs": [],
   "source": [
    "from sklearn.datasets import load_iris"
   ]
  },
  {
   "cell_type": "code",
   "execution_count": 21,
   "metadata": {},
   "outputs": [],
   "source": [
    "iris = load_iris()"
   ]
  },
  {
   "cell_type": "code",
   "execution_count": 22,
   "metadata": {},
   "outputs": [],
   "source": [
    "X, y = iris.data, iris.target\n",
    "feature_names = iris.feature_names\n",
    "class_names = iris.target_names"
   ]
  },
  {
   "cell_type": "code",
   "execution_count": 23,
   "metadata": {},
   "outputs": [
    {
     "data": {
      "text/plain": [
       "DecisionTreeClassifier(class_weight=None, criterion='gini', max_depth=3,\n",
       "            max_features=None, max_leaf_nodes=None,\n",
       "            min_impurity_decrease=0.0, min_impurity_split=None,\n",
       "            min_samples_leaf=1, min_samples_split=2,\n",
       "            min_weight_fraction_leaf=0.0, presort=False, random_state=0,\n",
       "            splitter='best')"
      ]
     },
     "execution_count": 23,
     "metadata": {},
     "output_type": "execute_result"
    }
   ],
   "source": [
    "clf = DecisionTreeClassifier(max_depth=3, random_state=0)\n",
    "clf\n",
    "# 可以像上面直接写参数，也可以用set_params函数\n",
    "# clf2 = DecisionTreeClassifier()\n",
    "# params = {'max_depth':3, 'random_state':123}\n",
    "# clf2.set_params(**params)"
   ]
  },
  {
   "cell_type": "code",
   "execution_count": 24,
   "metadata": {},
   "outputs": [
    {
     "data": {
      "text/plain": [
       "DecisionTreeClassifier(class_weight=None, criterion='gini', max_depth=3,\n",
       "            max_features=None, max_leaf_nodes=None,\n",
       "            min_impurity_decrease=0.0, min_impurity_split=None,\n",
       "            min_samples_leaf=1, min_samples_split=2,\n",
       "            min_weight_fraction_leaf=0.0, presort=False, random_state=0,\n",
       "            splitter='best')"
      ]
     },
     "execution_count": 24,
     "metadata": {},
     "output_type": "execute_result"
    }
   ],
   "source": [
    "# 训练\n",
    "clf = clf.fit(X, y) # 可以设置sample_weight参数\n",
    "clf"
   ]
  },
  {
   "cell_type": "code",
   "execution_count": 25,
   "metadata": {},
   "outputs": [],
   "source": [
    "X_test = [X[101], X[51], X[1]]\n",
    "y_test = [y[101], y[51], y[1]]"
   ]
  },
  {
   "cell_type": "code",
   "execution_count": 26,
   "metadata": {},
   "outputs": [
    {
     "data": {
      "text/plain": [
       "array([2, 1, 0])"
      ]
     },
     "execution_count": 26,
     "metadata": {},
     "output_type": "execute_result"
    }
   ],
   "source": [
    "# 预测\n",
    "clf.predict(X_test)"
   ]
  },
  {
   "cell_type": "code",
   "execution_count": 27,
   "metadata": {},
   "outputs": [
    {
     "data": {
      "text/plain": [
       "array([[0.        , 0.        , 1.        ],\n",
       "       [0.        , 0.97916667, 0.02083333],\n",
       "       [1.        , 0.        , 0.        ]])"
      ]
     },
     "execution_count": 27,
     "metadata": {},
     "output_type": "execute_result"
    }
   ],
   "source": [
    "clf.predict_proba(X_test) # 返回概率"
   ]
  },
  {
   "cell_type": "code",
   "execution_count": 28,
   "metadata": {},
   "outputs": [
    {
     "name": "stderr",
     "output_type": "stream",
     "text": [
      "/anaconda3/lib/python3.7/site-packages/sklearn/tree/tree.py:875: RuntimeWarning: divide by zero encountered in log\n",
      "  return np.log(proba)\n"
     ]
    },
    {
     "data": {
      "text/plain": [
       "array([[       -inf,        -inf,  0.        ],\n",
       "       [       -inf, -0.02105341, -3.87120101],\n",
       "       [ 0.        ,        -inf,        -inf]])"
      ]
     },
     "execution_count": 28,
     "metadata": {},
     "output_type": "execute_result"
    }
   ],
   "source": [
    "clf.predict_log_proba(X_test) # 返回log(概率)"
   ]
  },
  {
   "cell_type": "code",
   "execution_count": 29,
   "metadata": {},
   "outputs": [
    {
     "data": {
      "text/plain": [
       "1.0"
      ]
     },
     "execution_count": 29,
     "metadata": {},
     "output_type": "execute_result"
    }
   ],
   "source": [
    "# 评价\n",
    "clf.score(X_test, y_test)  # 针对clf.predict(X_test) 输出结果的平均准确率"
   ]
  },
  {
   "cell_type": "code",
   "execution_count": 30,
   "metadata": {},
   "outputs": [
    {
     "name": "stdout",
     "output_type": "stream",
     "text": [
      "clf.classes_: [0 1 2]\n",
      "clf.feature_importances_: [0.         0.         0.05393633 0.94606367]\n",
      "clf.max_features_ 4\n",
      "clf.n_classes_ 3\n",
      "clf.n_features_ 4\n",
      "clf.n_outputs_ 1\n",
      "clf.tree_ <sklearn.tree._tree.Tree object at 0x1a25c632a0>\n"
     ]
    }
   ],
   "source": [
    "print(\"clf.classes_:\", clf.classes_)\n",
    "print(\"clf.feature_importances_:\", clf.feature_importances_)\n",
    "print(\"clf.max_features_\", clf.max_features_)\n",
    "print(\"clf.n_classes_\", clf.n_classes_)\n",
    "print(\"clf.n_features_\", clf.n_features_)\n",
    "print(\"clf.n_outputs_\", clf.n_outputs_)\n",
    "print(\"clf.tree_\", clf.tree_)\n",
    "# 决策树的结构\n",
    "# help(sklearn.tree._tree.Tree)"
   ]
  },
  {
   "cell_type": "markdown",
   "metadata": {},
   "source": [
    "#### 画决策树"
   ]
  },
  {
   "cell_type": "code",
   "execution_count": 31,
   "metadata": {},
   "outputs": [],
   "source": [
    "# from sklearn.tree import export_text # 只有sklearn0.21以上才有\n",
    "# r = export_text(clf, feature_names=feature_names)\n",
    "# print(r)"
   ]
  },
  {
   "cell_type": "code",
   "execution_count": 32,
   "metadata": {},
   "outputs": [],
   "source": [
    "# from sklearn.tree import plot_tree # 只有sklearn版本0.21以上才有\n",
    "# plot_tree(clf)  "
   ]
  },
  {
   "cell_type": "code",
   "execution_count": 33,
   "metadata": {},
   "outputs": [],
   "source": [
    "from sklearn.tree import export_graphviz"
   ]
  },
  {
   "cell_type": "code",
   "execution_count": 34,
   "metadata": {},
   "outputs": [
    {
     "data": {
      "text/plain": [
       "'digraph Tree {\\nnode [shape=box] ;\\n0 [label=\"X[3] <= 0.8\\\\ngini = 0.667\\\\nsamples = 150\\\\nvalue = [50, 50, 50]\"] ;\\n1 [label=\"gini = 0.0\\\\nsamples = 50\\\\nvalue = [50, 0, 0]\"] ;\\n0 -> 1 [labeldistance=2.5, labelangle=45, headlabel=\"True\"] ;\\n2 [label=\"X[3] <= 1.75\\\\ngini = 0.5\\\\nsamples = 100\\\\nvalue = [0, 50, 50]\"] ;\\n0 -> 2 [labeldistance=2.5, labelangle=-45, headlabel=\"False\"] ;\\n3 [label=\"X[2] <= 4.95\\\\ngini = 0.168\\\\nsamples = 54\\\\nvalue = [0, 49, 5]\"] ;\\n2 -> 3 ;\\n4 [label=\"gini = 0.041\\\\nsamples = 48\\\\nvalue = [0, 47, 1]\"] ;\\n3 -> 4 ;\\n5 [label=\"gini = 0.444\\\\nsamples = 6\\\\nvalue = [0, 2, 4]\"] ;\\n3 -> 5 ;\\n6 [label=\"X[2] <= 4.85\\\\ngini = 0.043\\\\nsamples = 46\\\\nvalue = [0, 1, 45]\"] ;\\n2 -> 6 ;\\n7 [label=\"gini = 0.444\\\\nsamples = 3\\\\nvalue = [0, 1, 2]\"] ;\\n6 -> 7 ;\\n8 [label=\"gini = 0.0\\\\nsamples = 43\\\\nvalue = [0, 0, 43]\"] ;\\n6 -> 8 ;\\n}'"
      ]
     },
     "execution_count": 34,
     "metadata": {},
     "output_type": "execute_result"
    }
   ],
   "source": [
    "dot_data = export_graphviz(clf, out_file=None)\n",
    "dot_data"
   ]
  },
  {
   "cell_type": "code",
   "execution_count": 35,
   "metadata": {},
   "outputs": [
    {
     "data": {
      "text/plain": [
       "'digraph Tree {\\nnode [shape=box, style=\"filled, rounded\", color=\"black\", fontname=helvetica] ;\\nedge [fontname=helvetica] ;\\n0 [label=<petal width (cm) &le; 0.8<br/>gini = 0.667<br/>samples = 150<br/>value = [50, 50, 50]<br/>class = setosa>, fillcolor=\"#e5813900\"] ;\\n1 [label=<gini = 0.0<br/>samples = 50<br/>value = [50, 0, 0]<br/>class = setosa>, fillcolor=\"#e58139ff\"] ;\\n0 -> 1 [labeldistance=2.5, labelangle=45, headlabel=\"True\"] ;\\n2 [label=<petal width (cm) &le; 1.75<br/>gini = 0.5<br/>samples = 100<br/>value = [0, 50, 50]<br/>class = versicolor>, fillcolor=\"#39e58100\"] ;\\n0 -> 2 [labeldistance=2.5, labelangle=-45, headlabel=\"False\"] ;\\n3 [label=<petal length (cm) &le; 4.95<br/>gini = 0.168<br/>samples = 54<br/>value = [0, 49, 5]<br/>class = versicolor>, fillcolor=\"#39e581e5\"] ;\\n2 -> 3 ;\\n4 [label=<gini = 0.041<br/>samples = 48<br/>value = [0, 47, 1]<br/>class = versicolor>, fillcolor=\"#39e581fa\"] ;\\n3 -> 4 ;\\n5 [label=<gini = 0.444<br/>samples = 6<br/>value = [0, 2, 4]<br/>class = virginica>, fillcolor=\"#8139e57f\"] ;\\n3 -> 5 ;\\n6 [label=<petal length (cm) &le; 4.85<br/>gini = 0.043<br/>samples = 46<br/>value = [0, 1, 45]<br/>class = virginica>, fillcolor=\"#8139e5f9\"] ;\\n2 -> 6 ;\\n7 [label=<gini = 0.444<br/>samples = 3<br/>value = [0, 1, 2]<br/>class = virginica>, fillcolor=\"#8139e57f\"] ;\\n6 -> 7 ;\\n8 [label=<gini = 0.0<br/>samples = 43<br/>value = [0, 0, 43]<br/>class = virginica>, fillcolor=\"#8139e5ff\"] ;\\n6 -> 8 ;\\n}'"
      ]
     },
     "execution_count": 35,
     "metadata": {},
     "output_type": "execute_result"
    }
   ],
   "source": [
    "dot_data2 = export_graphviz(clf, out_file=None, \n",
    "                            feature_names = feature_names,\n",
    "                            class_names = class_names,\n",
    "                            filled=True, # 填充颜色\n",
    "                            rounded=True, # 绘图输出的框是圆角的，而不是直角矩形\n",
    "                            special_characters=True\n",
    "                           )\n",
    "dot_data2"
   ]
  },
  {
   "cell_type": "code",
   "execution_count": 36,
   "metadata": {},
   "outputs": [],
   "source": [
    "import graphviz"
   ]
  },
  {
   "cell_type": "code",
   "execution_count": 37,
   "metadata": {},
   "outputs": [
    {
     "data": {
      "text/plain": [
       "'iris2.pdf'"
      ]
     },
     "execution_count": 37,
     "metadata": {},
     "output_type": "execute_result"
    }
   ],
   "source": [
    "graph = graphviz.Source(dot_data)\n",
    "graph.render(\"iris\") # 会生成iris.pdf到本地目录\n",
    "\n",
    "graph2 = graphviz.Source(dot_data2)\n",
    "graph2.render(\"iris2\") # 会生成iris2.pdf到本地目录"
   ]
  },
  {
   "cell_type": "markdown",
   "metadata": {},
   "source": [
    "#### 决策树的属性"
   ]
  },
  {
   "cell_type": "code",
   "execution_count": 38,
   "metadata": {},
   "outputs": [],
   "source": [
    "# 树的编号（节点编号从0开始，深度优先）\n",
    "#         　　0 \n",
    "#     1      　    　2\n",
    "#        　  　3    　　   6\n",
    "#         4       5   7      8"
   ]
  },
  {
   "cell_type": "code",
   "execution_count": 39,
   "metadata": {},
   "outputs": [
    {
     "name": "stdout",
     "output_type": "stream",
     "text": [
      "节点的个数： 9\n",
      "左树的结构： [ 1 -1  3  4 -1 -1  7 -1 -1]\n",
      "右树的结构： [ 2 -1  6  5 -1 -1  8 -1 -1]\n",
      "每个节点的分裂特征： [ 3 -2  3  2 -2 -2  2 -2 -2]\n",
      "每个节点的阈值： [ 0.80000001 -2.          1.75        4.95000005 -2.         -2.\n",
      "  4.85000014 -2.         -2.        ]\n",
      "每个节点的数目： [150  50 100  54  48   6  46   3  43]\n",
      "每个节点的不纯度： [0.66666667 0.         0.5        0.16803841 0.04079861 0.44444444\n",
      " 0.04253308 0.44444444 0.        ]\n"
     ]
    }
   ],
   "source": [
    "print(\"节点的个数：\", clf.tree_.node_count)\n",
    "print(\"左树的结构：\", clf.tree_.children_left) # 每个节点的左子树根节点的编号，如果是叶子节点，则为-1\n",
    "print(\"右树的结构：\", clf.tree_.children_right) # 每个节点的右子树根节点的编号，如果是叶子节点，则为-1\n",
    "print(\"每个节点的分裂特征：\", clf.tree_.feature) \n",
    "print(\"每个节点的阈值：\", clf.tree_.threshold) \n",
    "print(\"每个节点的数目：\", clf.tree_.n_node_samples)\n",
    "print(\"每个节点的不纯度：\", clf.tree_.impurity)"
   ]
  },
  {
   "cell_type": "code",
   "execution_count": 40,
   "metadata": {},
   "outputs": [
    {
     "name": "stdout",
     "output_type": "stream",
     "text": [
      "决策树有9节点，结构如下：\n",
      "\n",
      "node=0 is a split node:go to node 1 if X[:,3] <= 0.800000011920929 else to node 2.\n",
      "\tnode=1 is a leaf node.\n",
      "\tnode=2 is a split node:go to node 3 if X[:,3] <= 1.75 else to node 6.\n",
      "\t\tnode=3 is a split node:go to node 4 if X[:,2] <= 4.950000047683716 else to node 5.\n",
      "\t\t\tnode=4 is a leaf node.\n",
      "\t\t\tnode=5 is a leaf node.\n",
      "\t\tnode=6 is a split node:go to node 7 if X[:,2] <= 4.8500001430511475 else to node 8.\n",
      "\t\t\tnode=7 is a leaf node.\n",
      "\t\t\tnode=8 is a leaf node.\n"
     ]
    }
   ],
   "source": [
    "n_nodes = clf.tree_.node_count\n",
    "children_left = clf.tree_.children_left\n",
    "children_right = clf.tree_.children_right\n",
    "feature = clf.tree_.feature\n",
    "threshold = clf.tree_.threshold\n",
    "node_depth = np.zeros(shape=n_nodes, dtype=np.int64)\n",
    "is_leaves = np.zeros(shape=n_nodes, dtype=bool)\n",
    "stack = [(0, 0)] #(node_id, node_depth)\n",
    "while len(stack)>0:\n",
    "    node_id, depth = stack.pop()\n",
    "    node_depth[node_id] = depth\n",
    "    \n",
    "    is_split_node = children_left[node_id] != children_right[node_id]\n",
    "    if is_split_node:\n",
    "        stack.append((children_left[node_id], depth+1))\n",
    "        stack.append((children_right[node_id], depth+1))\n",
    "    else:\n",
    "        is_leaves[node_id] = True\n",
    "\n",
    "print(\"决策树有{n}节点，结构如下：\\n\".format(n=n_nodes))\n",
    "for i in range(n_nodes):\n",
    "    if is_leaves[i]:\n",
    "        print(\"{space}node={node} is a leaf node.\".format(space=node_depth[i]*\"\\t\", node=i))\n",
    "    else:\n",
    "        print(\"{space}node={node} is a split node:\"\n",
    "              \"go to node {left} if X[:,{feature}] <= {threshold} \"\n",
    "              \"else to node {right}.\".format(\n",
    "                  space=node_depth[i]*\"\\t\",\n",
    "                  node=i,\n",
    "                  left=children_left[i],\n",
    "                  feature=feature[i],\n",
    "                  threshold=threshold[i],\n",
    "                  right=children_right[i],\n",
    "              ))"
   ]
  },
  {
   "cell_type": "code",
   "execution_count": 41,
   "metadata": {},
   "outputs": [
    {
     "name": "stdout",
     "output_type": "stream",
     "text": [
      "[array([5.8, 2.7, 5.1, 1.9]), array([6.4, 3.2, 4.5, 1.5]), array([4.9, 3. , 1.4, 0.2])]\n",
      "[2, 1, 0]\n"
     ]
    }
   ],
   "source": [
    "print(X_test)\n",
    "print(y_test)"
   ]
  },
  {
   "cell_type": "code",
   "execution_count": 42,
   "metadata": {},
   "outputs": [],
   "source": [
    "# clf.cost_complexity_pruning_path(X, y) \n",
    "# 这里用X, y对树进行训练，返回的是生成树后对树进行剪枝的过程中的alpha以及对应impurity\n",
    "# 这个函数在新版本的sklearn里才有"
   ]
  },
  {
   "cell_type": "markdown",
   "metadata": {},
   "source": [
    "#### 剪枝操作"
   ]
  },
  {
   "cell_type": "code",
   "execution_count": 43,
   "metadata": {},
   "outputs": [
    {
     "name": "stdout",
     "output_type": "stream",
     "text": [
      "节点: 0\n",
      "剪枝后复杂度 0.6666666666666667\n",
      "未剪枝复杂度 0.039722222222222235\n",
      "大于此alpha可剪枝 0.15673611111111113\n",
      "---------------\n",
      "节点: 2\n",
      "剪枝后复杂度 0.3333333333333333\n",
      "未剪枝复杂度 0.039722222222222235\n",
      "大于此alpha可剪枝 0.09787037037037037\n",
      "---------------\n",
      "节点: 3\n",
      "剪枝后复杂度 0.06049382716049384\n",
      "未剪枝复杂度 0.03083333333333335\n",
      "大于此alpha可剪枝 0.02966049382716049\n",
      "---------------\n",
      "节点: 6\n",
      "剪枝后复杂度 0.013043478260869554\n",
      "未剪枝复杂度 0.008888888888888889\n",
      "大于此alpha可剪枝 0.004154589371980665\n",
      "---------------\n"
     ]
    }
   ],
   "source": [
    "# 剪枝操作\n",
    "node_cpp_alphas = []\n",
    "impurity = clf.tree_.impurity\n",
    "node_samples = clf.tree_.n_node_samples\n",
    "total_samples = 150\n",
    "\n",
    "for i in range(n_nodes):\n",
    "    C_t = impurity[i] * node_samples[i]/total_samples # 这里用的是impurity，也有用错误率来计算的\n",
    "    C_tree = 0\n",
    "    if is_leaves[i]:  # 本身是个叶子节点，就无需剪枝，也就无需计算alpha\n",
    "        node_cpp_alphas.append(-1)\n",
    "        continue\n",
    "      \n",
    "    child_leaf_nodes = []\n",
    "    child_nodes = []     \n",
    "    tmp_node = i\n",
    "    while 1:\n",
    "        if children_left[tmp_node] == children_right[tmp_node]:\n",
    "            child_leaf_nodes.append(tmp_node)\n",
    "        else:\n",
    "            child_nodes.append(children_left[tmp_node])\n",
    "            child_nodes.append(children_right[tmp_node])\n",
    "        if len(child_nodes)>0:\n",
    "            tmp_node = child_nodes.pop()\n",
    "        else:\n",
    "            break     \n",
    "       \n",
    "    for j in child_leaf_nodes:\n",
    "        if is_leaves[j]:\n",
    "            C_tree += impurity[j] * node_samples[j]/total_samples\n",
    "            \n",
    "    alpha = (C_t - C_tree)/(len(child_leaf_nodes)-1)\n",
    "    print(\"节点:\", i)\n",
    "    print(\"剪枝后复杂度\", C_t)\n",
    "    print(\"未剪枝复杂度\", C_tree)\n",
    "    print(\"大于此alpha可剪枝\",alpha)\n",
    "    print(\"---------------\")\n",
    "    \n",
    "# 每次剪枝选择有最小alpha值的枝，剪完之后重新计算alpha值，不断迭代剪枝"
   ]
  },
  {
   "cell_type": "markdown",
   "metadata": {},
   "source": [
    "#### 所在叶子节点"
   ]
  },
  {
   "cell_type": "code",
   "execution_count": 44,
   "metadata": {},
   "outputs": [
    {
     "data": {
      "text/plain": [
       "array([8, 4, 1])"
      ]
     },
     "execution_count": 44,
     "metadata": {},
     "output_type": "execute_result"
    }
   ],
   "source": [
    "leaf_id = clf.apply(X_test) # 返回测试集中每个样本的预测结果所在的叶子节点的编号\n",
    "leaf_id"
   ]
  },
  {
   "cell_type": "markdown",
   "metadata": {},
   "source": [
    "#### 决策路径"
   ]
  },
  {
   "cell_type": "code",
   "execution_count": 45,
   "metadata": {},
   "outputs": [
    {
     "data": {
      "text/plain": [
       "matrix([[1, 0, 1, 0, 0, 0, 1, 0, 1],\n",
       "        [1, 0, 1, 1, 1, 0, 0, 0, 0],\n",
       "        [1, 1, 0, 0, 0, 0, 0, 0, 0]])"
      ]
     },
     "execution_count": 45,
     "metadata": {},
     "output_type": "execute_result"
    }
   ],
   "source": [
    "decision_path = clf.decision_path(X_test) # 返回X_test中样本经过的树的节点矩阵（经过为1，否则为0），是一个稀疏矩阵\n",
    "decision_path.todense()\n",
    "#decision_path.toarray()"
   ]
  },
  {
   "cell_type": "code",
   "execution_count": 46,
   "metadata": {},
   "outputs": [
    {
     "data": {
      "text/plain": [
       "array([0, 2, 6, 8], dtype=int32)"
      ]
     },
     "execution_count": 46,
     "metadata": {},
     "output_type": "execute_result"
    }
   ],
   "source": [
    "sample_id = 0 \n",
    "node_index = decision_path.indices[decision_path.indptr[sample_id]:decision_path.indptr[sample_id+1]]\n",
    "node_index # 第一个sample经过的节点"
   ]
  },
  {
   "cell_type": "code",
   "execution_count": 47,
   "metadata": {},
   "outputs": [
    {
     "name": "stdout",
     "output_type": "stream",
     "text": [
      "Rules used to predict sample 0\n",
      "\n",
      "decision node 0 :(X_test[0, 3] = 1.9)> 0.800000011920929\n",
      "decision node 2 :(X_test[0, 3] = 1.9)> 1.75\n",
      "decision node 6 :(X_test[0, 2] = 5.1)> 4.8500001430511475\n"
     ]
    }
   ],
   "source": [
    "print(\"Rules used to predict sample {id}\\n\".format(id=sample_id))\n",
    "for node_id in node_index:\n",
    "    if leaf_id[sample_id] == node_id:\n",
    "        continue\n",
    "    if (X_test[sample_id][feature[node_id]] <= threshold[node_id]):\n",
    "        threshold_sign = \"<=\"\n",
    "    else:\n",
    "        threshold_sign = \">\"\n",
    "        \n",
    "    print(\"decision node {node} :(X_test[{sample}, {feature}] = {value})\"\n",
    "          \"{inequality} {threshold}\".format(\n",
    "          node = node_id,\n",
    "          sample = sample_id,\n",
    "          feature = feature[node_id],\n",
    "          value = X_test[sample_id][feature[node_id]],\n",
    "          inequality = threshold_sign,\n",
    "          threshold = threshold[node_id]))"
   ]
  },
  {
   "cell_type": "markdown",
   "metadata": {},
   "source": [
    "#### 特征重要性"
   ]
  },
  {
   "cell_type": "code",
   "execution_count": 48,
   "metadata": {},
   "outputs": [
    {
     "data": {
      "text/plain": [
       "array([0.        , 0.        , 0.05393633, 0.94606367])"
      ]
     },
     "execution_count": 48,
     "metadata": {},
     "output_type": "execute_result"
    }
   ],
   "source": [
    "clf.feature_importances_ # 特征重要性已经归一化了，加起来为1"
   ]
  },
  {
   "cell_type": "markdown",
   "metadata": {},
   "source": [
    "#####  特征重要性通过impurity的下降幅度计算，基于impurity的特征重要性计算可能会使有很多唯一值的特征计算出来的重要性太高而没有参考意义；"
   ]
  },
  {
   "cell_type": "code",
   "execution_count": 49,
   "metadata": {},
   "outputs": [],
   "source": [
    "# x0，x1未在决策树中出现，所有特征重要性为0\n",
    "x2_imp = impurity[3] * (node_samples[3]/total_samples) \\\n",
    "         - impurity[4] * (node_samples[4]/total_samples) \\\n",
    "         - impurity[5] * (node_samples[5]/total_samples)\\\n",
    "        + impurity[6] * (node_samples[6]/total_samples) \\\n",
    "        - impurity[7] * (node_samples[7]/total_samples)\\\n",
    "        - impurity[8] * (node_samples[8]/total_samples)"
   ]
  },
  {
   "cell_type": "code",
   "execution_count": 50,
   "metadata": {},
   "outputs": [],
   "source": [
    "x3_imp = impurity[0] * (node_samples[0]/total_samples) \\\n",
    "         - impurity[1] * (node_samples[1]/total_samples) \\\n",
    "         - impurity[2] * (node_samples[2]/total_samples)\\\n",
    "        + impurity[2] * (node_samples[2]/total_samples) \\\n",
    "        - impurity[3] * (node_samples[3]/total_samples)\\\n",
    "        - impurity[6] * (node_samples[6]/total_samples)"
   ]
  },
  {
   "cell_type": "code",
   "execution_count": 51,
   "metadata": {},
   "outputs": [
    {
     "name": "stdout",
     "output_type": "stream",
     "text": [
      "X2的特征重要性: 0.053936331199338994\n",
      "X3的特征重要性: 0.946063668800661\n"
     ]
    }
   ],
   "source": [
    "print(\"X2的特征重要性:\", x2_imp/(x2_imp + x3_imp)) # 归一化\n",
    "print(\"X3的特征重要性:\", x3_imp/(x2_imp + x3_imp)) # 归一化"
   ]
  },
  {
   "cell_type": "markdown",
   "metadata": {},
   "source": [
    "#### 其他参数"
   ]
  },
  {
   "cell_type": "code",
   "execution_count": 52,
   "metadata": {},
   "outputs": [],
   "source": [
    "# 返回树的深度，新版本的sklearn才有\n",
    "# clf.get_depth()"
   ]
  },
  {
   "cell_type": "code",
   "execution_count": 53,
   "metadata": {},
   "outputs": [],
   "source": [
    "# 返回叶子节点个数，新版本的sklearn才有\n",
    "# clf.get_n_leaves()"
   ]
  },
  {
   "cell_type": "code",
   "execution_count": 54,
   "metadata": {},
   "outputs": [
    {
     "data": {
      "text/plain": [
       "<bound method BaseEstimator.get_params of DecisionTreeClassifier(class_weight=None, criterion='gini', max_depth=3,\n",
       "            max_features=None, max_leaf_nodes=None,\n",
       "            min_impurity_decrease=0.0, min_impurity_split=None,\n",
       "            min_samples_leaf=1, min_samples_split=2,\n",
       "            min_weight_fraction_leaf=0.0, presort=False, random_state=0,\n",
       "            splitter='best')>"
      ]
     },
     "execution_count": 54,
     "metadata": {},
     "output_type": "execute_result"
    }
   ],
   "source": [
    "clf.get_params"
   ]
  },
  {
   "cell_type": "code",
   "execution_count": 55,
   "metadata": {},
   "outputs": [
    {
     "data": {
      "text/plain": [
       "['sepal length (cm)',\n",
       " 'sepal width (cm)',\n",
       " 'petal length (cm)',\n",
       " 'petal width (cm)']"
      ]
     },
     "execution_count": 55,
     "metadata": {},
     "output_type": "execute_result"
    }
   ],
   "source": [
    "feature_names"
   ]
  },
  {
   "cell_type": "markdown",
   "metadata": {},
   "source": [
    "### 2.回归树"
   ]
  },
  {
   "cell_type": "code",
   "execution_count": 56,
   "metadata": {},
   "outputs": [],
   "source": [
    "# DecisionTreeRegressor参数解释：\n",
    "#  criteriion: ‘mse’, 'friedman_mse', 'mae', 'poisson'，默认使用'mse'\n",
    "#  其他参数解释同DecisionTreeClassifier"
   ]
  },
  {
   "cell_type": "code",
   "execution_count": 57,
   "metadata": {},
   "outputs": [],
   "source": [
    "# 回归树的函数大部分和分类树一样，只是回归树没有predict_proba, 也没有predict_log_proba\n",
    "# 另外回归树的score函数返回的是预测结果的决定系数，用它来判断回归方程的拟合程度，越接近1，回归函数的拟合优度越大；\n",
    "# 决定系数定义如下：1 - SSR/SSE\n",
    "# SSR = ((y_true - y_pred)**2).sum()\n",
    "# SSE = ((y_true - y_true.mean())**2).sum()\n"
   ]
  },
  {
   "cell_type": "markdown",
   "metadata": {},
   "source": [
    "#### 回归案例介绍 "
   ]
  },
  {
   "cell_type": "code",
   "execution_count": 58,
   "metadata": {},
   "outputs": [],
   "source": [
    "# 创建一个随机数据集\n",
    "rng = np.random.RandomState(1)\n",
    "X = np.sort(5*rng.rand(80, 1), axis=0) # rng.rand生成给定形状的随机数，这里（80，1）是一个二维数组，80行，1列\n",
    "y = np.sin(X).ravel() # 扁平化\n",
    "y[::5] += 3*(0.5 - rng.rand(16)) # [::5] 表示默认从index=0开始，间隔5\n",
    "\n",
    "regr1 = DecisionTreeRegressor(max_depth=2)\n",
    "regr2 = DecisionTreeRegressor(max_depth=3)\n",
    "regr3 = DecisionTreeRegressor(max_depth=4)\n",
    "\n",
    "regr1.fit(X, y)\n",
    "regr2.fit(X, y)\n",
    "regr3.fit(X, y)\n",
    "\n",
    "X_test = np.arange(0.0, 5.0, 0.01)[:, np.newaxis] # np.newaxis给原数组增加一个维度\n",
    "y_1 = regr1.predict(X_test)\n",
    "y_2 = regr2.predict(X_test)\n",
    "y_3 = regr3.predict(X_test)"
   ]
  },
  {
   "cell_type": "code",
   "execution_count": 59,
   "metadata": {},
   "outputs": [],
   "source": [
    "import matplotlib.pyplot as plt\n",
    "%matplotlib inline"
   ]
  },
  {
   "cell_type": "code",
   "execution_count": 60,
   "metadata": {},
   "outputs": [
    {
     "data": {
      "image/png": "[encoded data removed]",
      "text/plain": [
       "<Figure size 720x576 with 1 Axes>"
      ]
     },
     "metadata": {
      "needs_background": "light"
     },
     "output_type": "display_data"
    }
   ],
   "source": [
    "plt.figure(figsize=(10, 8))\n",
    "plt.scatter(X, y, s=20, edgecolor='black', c='darkorange', label='data')\n",
    "plt.plot(X_test, y_1, color='cornflowerblue', label='max_depth=2', linewidth=2)\n",
    "plt.plot(X_test, y_2, color='yellowgreen', label='max_depth=3', linewidth=2)\n",
    "plt.plot(X_test, y_3, color='red', label='max_depth=4', linewidth=2)\n",
    "plt.xlabel(\"data\")\n",
    "plt.ylabel(\"target\")\n",
    "plt.title(\"Decision Tree Regression\")\n",
    "plt.legend()\n",
    "plt.show()"
   ]
  },
  {
   "cell_type": "code",
   "execution_count": 61,
   "metadata": {},
   "outputs": [
    {
     "name": "stdout",
     "output_type": "stream",
     "text": [
      "0.7629899797432984\n",
      "0.8288157322356544\n"
     ]
    }
   ],
   "source": [
    "# 在训练集上看起来regr3表现最好，其实regr3已经过拟合了\n",
    "print(regr1.score(X, y))\n",
    "print(regr2.score(X, y))\n",
    "# 在测试集上regr2表现最好print(regr3.score(X, y)) "
   ]
  },
  {
   "cell_type": "code",
   "execution_count": 62,
   "metadata": {},
   "outputs": [
    {
     "name": "stdout",
     "output_type": "stream",
     "text": [
      "0.8374850559003532\n",
      "0.7599486866462462\n",
      "0.6310698060303424\n"
     ]
    }
   ],
   "source": [
    "# 在测试集上regr2表现最好\n",
    "X_test = np.sort(5*rng.rand(20, 1), axis=0) # rng.rand生成给定形状的随机数，这里（80，1）是一个二维数组，80行，1列\n",
    "y_test = np.sin(X_test).ravel() # 扁平化\n",
    "\n",
    "print(regr1.score(X_test, y_test))\n",
    "print(regr2.score(X_test, y_test)) \n",
    "print(regr3.score(X_test, y_test)) "
   ]
  },
  {
   "cell_type": "markdown",
   "metadata": {},
   "source": [
    "#### Multi-output 多列输出问题"
   ]
  },
  {
   "cell_type": "code",
   "execution_count": 63,
   "metadata": {},
   "outputs": [],
   "source": [
    "rng = np.random.RandomState(1)\n",
    "X = np.sort(200 * rng.rand(100, 1) - 100, axis=0) # 数值在-100~100之间\n",
    "y = np.array([np.pi * np.sin(X).ravel(), np.pi * np.cos(X).ravel()]).T # [pi*sinx, pi*cosx]\n",
    "y[::5, :] += (0.5 - rng.rand(20, 2))"
   ]
  },
  {
   "cell_type": "code",
   "execution_count": 64,
   "metadata": {},
   "outputs": [
    {
     "data": {
      "text/plain": [
       "DecisionTreeRegressor(criterion='mse', max_depth=4, max_features=None,\n",
       "           max_leaf_nodes=None, min_impurity_decrease=0.0,\n",
       "           min_impurity_split=None, min_samples_leaf=1,\n",
       "           min_samples_split=2, min_weight_fraction_leaf=0.0,\n",
       "           presort=False, random_state=None, splitter='best')"
      ]
     },
     "execution_count": 64,
     "metadata": {},
     "output_type": "execute_result"
    }
   ],
   "source": [
    "regr = DecisionTreeRegressor(max_depth=4)\n",
    "regr.fit(X, y)"
   ]
  },
  {
   "cell_type": "code",
   "execution_count": 65,
   "metadata": {},
   "outputs": [],
   "source": [
    "# Predict\n",
    "X_test = np.arange(-100.0, 100.0, 0.01)[:, np.newaxis]\n",
    "y_pred = regr.predict(X_test) # max_depth=4,最多有16个点"
   ]
  },
  {
   "cell_type": "code",
   "execution_count": 66,
   "metadata": {},
   "outputs": [
    {
     "data": {
      "text/plain": [
       "array([[ 1.82569761,  2.64490159],\n",
       "       [ 1.82569761,  2.64490159],\n",
       "       [ 1.82569761,  2.64490159],\n",
       "       ...,\n",
       "       [-0.56245069,  0.46541934],\n",
       "       [-0.56245069,  0.46541934],\n",
       "       [-0.56245069,  0.46541934]])"
      ]
     },
     "execution_count": 66,
     "metadata": {},
     "output_type": "execute_result"
    }
   ],
   "source": [
    "y_pred"
   ]
  },
  {
   "cell_type": "code",
   "execution_count": 67,
   "metadata": {},
   "outputs": [
    {
     "data": {
      "text/plain": [
       "<matplotlib.collections.PathCollection at 0x1a26ad7978>"
      ]
     },
     "execution_count": 67,
     "metadata": {},
     "output_type": "execute_result"
    },
    {
     "data": {
      "image/png": "[encoded data removed]",
      "text/plain": [
       "<Figure size 720x720 with 1 Axes>"
      ]
     },
     "metadata": {
      "needs_background": "light"
     },
     "output_type": "display_data"
    }
   ],
   "source": [
    "plt.figure(figsize=(10,10))\n",
    "s = 25\n",
    "plt.scatter(y[:, 0], y[:, 1], c=\"navy\", s=s,\n",
    "            edgecolor=\"black\", label=\"data\")\n",
    "plt.scatter(y_pred[:, 0], y_pred[:, 1], c=\"red\", s=s,\n",
    "            edgecolor=\"red\", label=\"max_depth=4\")"
   ]
  },
  {
   "cell_type": "code",
   "execution_count": 68,
   "metadata": {},
   "outputs": [
    {
     "data": {
      "text/plain": [
       "'digraph Tree {\\nnode [shape=box] ;\\n0 [label=\"X[0] <= 16.494\\\\nmse = 4.9\\\\nsamples = 100\\\\nvalue = [[0.021]\\\\n[0.091]]\"] ;\\n1 [label=\"X[0] <= -44.963\\\\nmse = 4.71\\\\nsamples = 59\\\\nvalue = [[0.282]\\\\n[-0.417]]\"] ;\\n0 -> 1 [labeldistance=2.5, labelangle=45, headlabel=\"True\"] ;\\n2 [label=\"X[0] <= -97.884\\\\nmse = 4.646\\\\nsamples = 29\\\\nvalue = [[-0.416]\\\\n[-0.631]]\"] ;\\n1 -> 2 ;\\n3 [label=\"X[0] <= -99.702\\\\nmse = 0.311\\\\nsamples = 2\\\\nvalue = [[2.316]\\\\n[2.028]]\"] ;\\n2 -> 3 ;\\n4 [label=\"mse = 0.0\\\\nsamples = 1\\\\nvalue = [[1.826]\\\\n[2.645]]\"] ;\\n3 -> 4 ;\\n5 [label=\"mse = 0.0\\\\nsamples = 1\\\\nvalue = [[2.807]\\\\n[1.411]]\"] ;\\n3 -> 5 ;\\n6 [label=\"X[0] <= -80.931\\\\nmse = 4.389\\\\nsamples = 27\\\\nvalue = [[-0.619]\\\\n[-0.828]]\"] ;\\n2 -> 6 ;\\n7 [label=\"mse = 3.501\\\\nsamples = 8\\\\nvalue = [[-1.577]\\\\n[0.288]]\"] ;\\n6 -> 7 ;\\n8 [label=\"mse = 4.116\\\\nsamples = 19\\\\nvalue = [[-0.215]\\\\n[-1.298]]\"] ;\\n6 -> 8 ;\\n9 [label=\"X[0] <= -17.781\\\\nmse = 4.265\\\\nsamples = 30\\\\nvalue = [[0.957]\\\\n[-0.211]]\"] ;\\n1 -> 9 ;\\n10 [label=\"X[0] <= -25.433\\\\nmse = 4.092\\\\nsamples = 12\\\\nvalue = [[0.598]\\\\n[0.949]]\"] ;\\n9 -> 10 ;\\n11 [label=\"mse = 3.29\\\\nsamples = 9\\\\nvalue = [[1.355]\\\\n[1.096]]\"] ;\\n10 -> 11 ;\\n12 [label=\"mse = 2.935\\\\nsamples = 3\\\\nvalue = [[-1.671]\\\\n[0.508]]\"] ;\\n10 -> 12 ;\\n13 [label=\"X[0] <= 4.805\\\\nmse = 3.562\\\\nsamples = 18\\\\nvalue = [[1.197]\\\\n[-0.984]]\"] ;\\n9 -> 13 ;\\n14 [label=\"mse = 2.736\\\\nsamples = 11\\\\nvalue = [[1.055]\\\\n[-1.671]]\"] ;\\n13 -> 14 ;\\n15 [label=\"mse = 3.864\\\\nsamples = 7\\\\nvalue = [[1.419]\\\\n[0.096]]\"] ;\\n13 -> 15 ;\\n16 [label=\"X[0] <= 28.711\\\\nmse = 4.599\\\\nsamples = 41\\\\nvalue = [[-0.355]\\\\n[0.823]]\"] ;\\n0 -> 16 [labeldistance=2.5, labelangle=-45, headlabel=\"False\"] ;\\n17 [label=\"X[0] <= 23.884\\\\nmse = 1.062\\\\nsamples = 5\\\\nvalue = [[-2.539]\\\\n[1.295]]\"] ;\\n16 -> 17 ;\\n18 [label=\"X[0] <= 20.645\\\\nmse = 0.404\\\\nsamples = 3\\\\nvalue = [[-3.079]\\\\n[0.458]]\"] ;\\n17 -> 18 ;\\n19 [label=\"mse = 0.318\\\\nsamples = 2\\\\nvalue = [[-3.062]\\\\n[0.895]]\"] ;\\n18 -> 19 ;\\n20 [label=\"mse = 0.0\\\\nsamples = 1\\\\nvalue = [[-3.114]\\\\n[-0.416]]\"] ;\\n18 -> 20 ;\\n21 [label=\"X[0] <= 24.537\\\\nmse = 0.19\\\\nsamples = 2\\\\nvalue = [[-1.729]\\\\n[2.549]]\"] ;\\n17 -> 21 ;\\n22 [label=\"mse = -0.0\\\\nsamples = 1\\\\nvalue = [[-2.24]\\\\n[2.203]]\"] ;\\n21 -> 22 ;\\n23 [label=\"mse = -0.0\\\\nsamples = 1\\\\nvalue = [[-1.218]\\\\n[2.896]]\"] ;\\n21 -> 23 ;\\n24 [label=\"X[0] <= 59.002\\\\nmse = 4.695\\\\nsamples = 36\\\\nvalue = [[-0.052]\\\\n[0.758]]\"] ;\\n16 -> 24 ;\\n25 [label=\"X[0] <= 34.93\\\\nmse = 3.65\\\\nsamples = 17\\\\nvalue = [[0.832]\\\\n[1.4]]\"] ;\\n24 -> 25 ;\\n26 [label=\"mse = 1.636\\\\nsamples = 3\\\\nvalue = [[2.472]\\\\n[-0.506]]\"] ;\\n25 -> 26 ;\\n27 [label=\"mse = 3.259\\\\nsamples = 14\\\\nvalue = [[0.48]\\\\n[1.809]]\"] ;\\n25 -> 27 ;\\n28 [label=\"X[0] <= 71.101\\\\nmse = 4.618\\\\nsamples = 19\\\\nvalue = [[-0.843]\\\\n[0.183]]\"] ;\\n24 -> 28 ;\\n29 [label=\"mse = 1.327\\\\nsamples = 3\\\\nvalue = [[-2.339]\\\\n[-1.321]]\"] ;\\n28 -> 29 ;\\n30 [label=\"mse = 4.734\\\\nsamples = 16\\\\nvalue = [[-0.562]\\\\n[0.465]]\"] ;\\n28 -> 30 ;\\n}'"
      ]
     },
     "execution_count": 68,
     "metadata": {},
     "output_type": "execute_result"
    }
   ],
   "source": [
    "dot_data = export_graphviz(regr, out_file=None)\n",
    "dot_data"
   ]
  },
  {
   "cell_type": "code",
   "execution_count": 69,
   "metadata": {},
   "outputs": [
    {
     "data": {
      "text/plain": [
       "'multiouput.pdf'"
      ]
     },
     "execution_count": 69,
     "metadata": {},
     "output_type": "execute_result"
    }
   ],
   "source": [
    "graph = graphviz.Source(dot_data)\n",
    "graph.render(\"multiouput\") # multiouput.pdf到本地目录"
   ]
  }
 ],
 "metadata": {
  "kernelspec": {
   "display_name": "Python 3",
   "language": "python",
   "name": "python3"
  },
  "language_info": {
   "codemirror_mode": {
    "name": "ipython",
    "version": 3
   },
   "file_extension": ".py",
   "mimetype": "text/x-python",
   "name": "python",
   "nbconvert_exporter": "python",
   "pygments_lexer": "ipython3",
   "version": "3.7.1"
  }
 },
 "nbformat": 4,
 "nbformat_minor": 2
}
